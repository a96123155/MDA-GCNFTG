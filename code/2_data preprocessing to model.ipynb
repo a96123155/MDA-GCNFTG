{
 "cells": [
  {
   "cell_type": "code",
   "execution_count": 1,
   "metadata": {
    "collapsed": false
   },
   "outputs": [],
   "source": [
    "import numpy as np\n",
    "import pandas as pd\n",
    "from tqdm import tqdm\n",
    "import scipy.sparse as sp\n",
    "from copy import deepcopy\n",
    "import warnings \n",
    "import os\n",
    "from sklearn.model_selection import KFold\n",
    "import json\n",
    "warnings.filterwarnings(\"ignore\") \n",
    "import random\n",
    "random.seed(1234)\n",
    "np.random.seed(1234)"
   ]
  },
  {
   "cell_type": "code",
   "execution_count": 2,
   "metadata": {
    "collapsed": true
   },
   "outputs": [],
   "source": [
    "def obtain_data(task, isbalance, balance):\n",
    "    \n",
    "    pwd = '/home/chujunyi/4_GNN/GAEMDA-miRNA-disease/0_data/'\n",
    "    if isbalance:\n",
    "        node_feature_label = pd.read_csv(pwd + 'node_feature_label.csv', index_col = 0)\n",
    "    else:\n",
    "        node_feature_label = pd.read_csv(pwd + 'node_feature_label__nobalance.csv', index_col = 0)\n",
    "    \n",
    "    train_test_id_idx = np.load('/home/chujunyi/4_GNN/GraphSAINT/miRNA_disease_data/task_' + task + balance + '__testlabel0_knn_edge_train_test_index_all.npz', allow_pickle = True)\n",
    "    train_index_all = train_test_id_idx['train_index_all']\n",
    "    test_index_all = train_test_id_idx['test_index_all']\n",
    "    \n",
    "    num_node = node_feature_label.shape[0]\n",
    "    node_feat = node_feature_label.iloc[:, 3:]\n",
    "    label = node_feature_label['label']\n",
    "\n",
    "    mirna_ids = list(set(node_feature_label['miRNA']))\n",
    "    disease_ids = list(set(node_feature_label['disease']))\n",
    "    random.shuffle(mirna_ids)\n",
    "    random.shuffle(disease_ids)\n",
    "    print('# miRNA = {} | Disease = {}'.format(len(mirna_ids), len(disease_ids)))\n",
    "    \n",
    "    mirna_test_num = int(len(mirna_ids) / 5)\n",
    "    disease_test_num = int(len(disease_ids) / 5)\n",
    "    print('# Test: miRNA = {} | Disease = {}'.format(mirna_test_num, disease_test_num))\n",
    "    \n",
    "    return node_feature_label, num_node, node_feat, label, mirna_ids, disease_ids, train_index_all, test_index_all"
   ]
  },
  {
   "cell_type": "code",
   "execution_count": 25,
   "metadata": {
    "collapsed": false
   },
   "outputs": [],
   "source": [
    "def generate_graphsaint_data(task, train_index_all, test_index_all, node_feat, n_neigh, label, num_node, balance):\n",
    "\n",
    "    fold = 0\n",
    "    for train_idx, test_idx in zip(train_index_all, test_index_all): #train_index与test_index为下标\n",
    "        # read knn_graph\n",
    "        pwd = '/home/chujunyi/4_GNN/GAEMDA-miRNA-disease/0_data/'\n",
    "        knn_graph_file = 'task_' + task + balance + '__testlabel0_knn' + str(n_neigh) + 'neighbors_edge__fold' + str(fold) + '.npz'\n",
    "        knn_neighbors_graph = sp.load_npz(pwd + knn_graph_file)\n",
    "\n",
    "        edge_src_dst = knn_neighbors_graph.nonzero()\n",
    "        #print(edge_src_dst)\n",
    "        \n",
    "        # save dir\n",
    "        save_dir = '/home/chujunyi/4_GNN/GraphSAINT/miRNA_disease_data/task_' + task + balance + '__testlabel0_' + str(n_neigh) + 'knn_edge_fold' + str(fold) + '/'\n",
    "\n",
    "        try:\n",
    "            os.mkdir(save_dir)\n",
    "        except OSError as error:\n",
    "            print(error, save_dir)\n",
    "\n",
    "        # feats.npy，不需要自己标准化！因为在utils.py中的load_data中有标准化的步骤哦！\n",
    "        feats = np.array(node_feat)\n",
    "        np.save(save_dir + 'feats.npy', feats)\n",
    "        \n",
    "        try:\n",
    "            train_idx, test_idx = train_idx.tolist(), test_idx.tolist()\n",
    "        except:\n",
    "            train_idx, test_idx = train_idx, test_idx\n",
    "            \n",
    "        # role.json\n",
    "        role = dict()\n",
    "        role['tr'] = train_idx\n",
    "        role['va'] = test_idx\n",
    "        role['te'] = test_idx\n",
    "        with open(save_dir + 'role.json','w') as f:\n",
    "            json.dump(role, f)\n",
    "\n",
    "        # class_map.json\n",
    "        y = np.array(label)\n",
    "        class_map = dict()\n",
    "        for i in range(num_node):\n",
    "            class_map[str(i)] = y[i].tolist()\n",
    "        with open(save_dir + 'class_map.json', 'w') as f:\n",
    "            json.dump(class_map, f)\n",
    "\n",
    "        # adj_*.npz\n",
    "        train_idx_set = set(train_idx)\n",
    "        test_idx_set = set(test_idx)\n",
    "        \n",
    "        row_full, col_full = edge_src_dst[0], edge_src_dst[1]\n",
    "        \n",
    "        row_train = []\n",
    "        col_train = []\n",
    "        row_val = []\n",
    "        col_val = []\n",
    "        for i in tqdm(range(row_full.shape[0])):\n",
    "            if row_full[i] in train_idx_set and col_full[i] in train_idx_set:\n",
    "                row_train.append(row_full[i])\n",
    "                col_train.append(col_full[i])\n",
    "            if row_full[i] in test_idx_set and col_full[i] in test_idx_set:\n",
    "                row_val.append(row_full[i])\n",
    "                col_val.append(col_full[i])\n",
    "\n",
    "        row_train = np.array(row_train)\n",
    "        col_train = np.array(col_train)\n",
    "        row_val = np.array(row_val)\n",
    "        col_val = np.array(col_val)\n",
    "        dtype = np.bool\n",
    "\n",
    "        adj_full = sp.coo_matrix(\n",
    "            (\n",
    "                np.ones(row_full.shape[0], dtype=dtype),\n",
    "                (row_full, col_full),\n",
    "            ),\n",
    "            shape=(num_node, num_node)\n",
    "        ).tocsr()\n",
    "\n",
    "        adj_train = sp.coo_matrix(\n",
    "            (\n",
    "                np.ones(row_train.shape[0], dtype=dtype),\n",
    "                (row_train, col_train),\n",
    "            ),\n",
    "            shape=(num_node, num_node)\n",
    "        ).tocsr()\n",
    "\n",
    "        adj_val = sp.coo_matrix(\n",
    "            (\n",
    "                np.ones(row_val.shape[0], dtype=dtype),\n",
    "                (row_val, col_val),\n",
    "            ),\n",
    "            shape=(num_node, num_node)\n",
    "        ).tocsr()\n",
    "\n",
    "        print('adj_full  num edges:', adj_full.nnz)\n",
    "        print('adj_val   num edges:', adj_val.nnz)\n",
    "        print('adj_train num edges:', adj_train.nnz)\n",
    "        sp.save_npz(save_dir + 'adj_full.npz', adj_full)\n",
    "        sp.save_npz(save_dir + 'adj_train.npz', adj_train)\n",
    "        sp.save_npz(save_dir + 'adj_val.npz', adj_val) # adj_val not used in GraphSAINT source code\n",
    "\n",
    "        fold += 1\n",
    "    \n",
    "    print('--Complete--', fold)\n",
    "    return feats, role, class_map, adj_full, adj_train, adj_val, edge_src_dst"
   ]
  },
  {
   "cell_type": "code",
   "execution_count": 32,
   "metadata": {
    "collapsed": false
   },
   "outputs": [],
   "source": [
    "def run(task, isbalance):\n",
    "    \n",
    "    if isbalance:\n",
    "        balance = ''\n",
    "    else:\n",
    "        balance = '__nobalance'\n",
    "\n",
    "    for n_neigh in [1, 3, 5, 7, 10, 15]:\n",
    "\n",
    "        node_feature_label, num_node, node_feat, label, mirna_ids, disease_ids, train_index_all, test_index_all = obtain_data(task, \n",
    "                                                                                                                              isbalance,\n",
    "                                                                                                                              balance)\n",
    "        feats, role, class_map, adj_full, adj_train, adj_val, edge_src_dst = generate_graphsaint_data(task, \n",
    "                                                                                        train_index_all, \n",
    "                                                                                        test_index_all, \n",
    "                                                                                        node_feat, \n",
    "                                                                                        n_neigh, \n",
    "                                                                                        label, \n",
    "                                                                                        num_node, \n",
    "                                                                                        balance)\n",
    "    return node_feature_label, num_node, node_feat, label, mirna_ids, disease_ids, train_index_all, test_index_all, \\\n",
    "    feats, role, class_map, adj_full, adj_train, adj_val, edge_src_dst"
   ]
  },
  {
   "cell_type": "markdown",
   "metadata": {},
   "source": [
    "# RUN nobalance"
   ]
  },
  {
   "cell_type": "code",
   "execution_count": 34,
   "metadata": {
    "collapsed": false,
    "scrolled": true
   },
   "outputs": [
    {
     "name": "stdout",
     "output_type": "stream",
     "text": [
      "# miRNA = 495 | Disease = 383\n",
      "# Test: miRNA = 99 | Disease = 76\n"
     ]
    },
    {
     "name": "stderr",
     "output_type": "stream",
     "text": [
      "100%|██████████| 2843775/2843775 [00:09<00:00, 314591.45it/s]\n"
     ]
    },
    {
     "name": "stdout",
     "output_type": "stream",
     "text": [
      "adj_full  num edges: 2843775\n",
      "adj_val   num edges: 143895\n",
      "adj_train num edges: 1851009\n"
     ]
    },
    {
     "name": "stderr",
     "output_type": "stream",
     "text": [
      "100%|██████████| 2843775/2843775 [00:09<00:00, 312213.38it/s]\n"
     ]
    },
    {
     "name": "stdout",
     "output_type": "stream",
     "text": [
      "adj_full  num edges: 2843775\n",
      "adj_val   num edges: 143835\n",
      "adj_train num edges: 1851654\n"
     ]
    },
    {
     "name": "stderr",
     "output_type": "stream",
     "text": [
      "100%|██████████| 2843775/2843775 [00:09<00:00, 304670.91it/s]\n"
     ]
    },
    {
     "name": "stdout",
     "output_type": "stream",
     "text": [
      "adj_full  num edges: 2843775\n",
      "adj_val   num edges: 144816\n",
      "adj_train num edges: 1848402\n"
     ]
    },
    {
     "name": "stderr",
     "output_type": "stream",
     "text": [
      "100%|██████████| 2843775/2843775 [00:08<00:00, 319763.68it/s]\n"
     ]
    },
    {
     "name": "stdout",
     "output_type": "stream",
     "text": [
      "adj_full  num edges: 2843775\n",
      "adj_val   num edges: 144237\n",
      "adj_train num edges: 1849629\n"
     ]
    },
    {
     "name": "stderr",
     "output_type": "stream",
     "text": [
      "100%|██████████| 2843775/2843775 [00:09<00:00, 290199.10it/s]\n"
     ]
    },
    {
     "name": "stdout",
     "output_type": "stream",
     "text": [
      "adj_full  num edges: 2843775\n",
      "adj_val   num edges: 143509\n",
      "adj_train num edges: 1850923\n",
      "--Complete-- 5\n"
     ]
    }
   ],
   "source": [
    "for task in ['Tp']:\n",
    "    node_feature_label, num_node, node_feat, label, mirna_ids, disease_ids, train_index_all, test_index_all, \\\n",
    "    feats, role, class_map, adj_full, adj_train, adj_val, edge_src_dst = run(task = task, isbalance = False)"
   ]
  },
  {
   "cell_type": "markdown",
   "metadata": {},
   "source": [
    "# RUN balance"
   ]
  },
  {
   "cell_type": "code",
   "execution_count": 15,
   "metadata": {
    "collapsed": true
   },
   "outputs": [
    {
     "name": "stderr",
     "output_type": "stream",
     "text": [
      "\r",
      "  0%|          | 0/108600 [00:00<?, ?it/s]"
     ]
    },
    {
     "name": "stdout",
     "output_type": "stream",
     "text": [
      "# miRNA = 495 | Disease = 383\n",
      "# Test: miRNA = 99 | Disease = 76\n",
      "[Errno 17] File exists: '/home/chujunyi/4_GNN/GraphSAINT/miRNA_disease_data/task_Tm__testlabel0_10knn_edge_fold0/' /home/chujunyi/4_GNN/GraphSAINT/miRNA_disease_data/task_Tm__testlabel0_10knn_edge_fold0/\n"
     ]
    },
    {
     "name": "stderr",
     "output_type": "stream",
     "text": [
      "100%|██████████| 108600/108600 [00:00<00:00, 280474.60it/s]\n",
      "  0%|          | 0/108600 [00:00<?, ?it/s]"
     ]
    },
    {
     "name": "stdout",
     "output_type": "stream",
     "text": [
      "adj_full  num edges: 108600\n",
      "adj_val   num edges: 6694\n",
      "adj_train num edges: 75005\n"
     ]
    },
    {
     "name": "stderr",
     "output_type": "stream",
     "text": [
      "100%|██████████| 108600/108600 [00:00<00:00, 284185.91it/s]\n",
      "  0%|          | 0/108600 [00:00<?, ?it/s]"
     ]
    },
    {
     "name": "stdout",
     "output_type": "stream",
     "text": [
      "adj_full  num edges: 108600\n",
      "adj_val   num edges: 6429\n",
      "adj_train num edges: 74610\n"
     ]
    },
    {
     "name": "stderr",
     "output_type": "stream",
     "text": [
      "100%|██████████| 108600/108600 [00:00<00:00, 284524.60it/s]\n",
      "  0%|          | 0/108600 [00:00<?, ?it/s]"
     ]
    },
    {
     "name": "stdout",
     "output_type": "stream",
     "text": [
      "adj_full  num edges: 108600\n",
      "adj_val   num edges: 7201\n",
      "adj_train num edges: 71961\n"
     ]
    },
    {
     "name": "stderr",
     "output_type": "stream",
     "text": [
      "100%|██████████| 108600/108600 [00:00<00:00, 285914.42it/s]\n",
      "  0%|          | 0/108600 [00:00<?, ?it/s]"
     ]
    },
    {
     "name": "stdout",
     "output_type": "stream",
     "text": [
      "adj_full  num edges: 108600\n",
      "adj_val   num edges: 8252\n",
      "adj_train num edges: 70631\n"
     ]
    },
    {
     "name": "stderr",
     "output_type": "stream",
     "text": [
      "100%|██████████| 108600/108600 [00:00<00:00, 281219.37it/s]\n"
     ]
    },
    {
     "name": "stdout",
     "output_type": "stream",
     "text": [
      "adj_full  num edges: 108600\n",
      "adj_val   num edges: 8205\n",
      "adj_train num edges: 70374\n",
      "--Complete-- 5\n"
     ]
    }
   ],
   "source": [
    "# for n_neigh in [1, 3, 5, 7, 15]: \n",
    "node_feature_label, num_node, node_feat, label, mirna_ids, disease_ids, train_index_all, test_index_all, \\\n",
    "feats, role, class_map, adj_full, adj_train, adj_val, edge_src_dst = run(task = 'Tm', isbalance = True)"
   ]
  },
  {
   "cell_type": "code",
   "execution_count": 16,
   "metadata": {
    "collapsed": true
   },
   "outputs": [
    {
     "name": "stderr",
     "output_type": "stream",
     "text": [
      "\r",
      "  0%|          | 0/108600 [00:00<?, ?it/s]"
     ]
    },
    {
     "name": "stdout",
     "output_type": "stream",
     "text": [
      "# miRNA = 495 | Disease = 383\n",
      "# Test: miRNA = 99 | Disease = 76\n"
     ]
    },
    {
     "name": "stderr",
     "output_type": "stream",
     "text": [
      "100%|██████████| 108600/108600 [00:00<00:00, 279304.61it/s]\n"
     ]
    },
    {
     "name": "stdout",
     "output_type": "stream",
     "text": [
      "adj_full  num edges: 108600\n",
      "adj_val   num edges: 6334\n",
      "adj_train num edges: 70417\n"
     ]
    },
    {
     "name": "stderr",
     "output_type": "stream",
     "text": [
      "100%|██████████| 108600/108600 [00:00<00:00, 304678.74it/s]\n",
      "  0%|          | 0/108600 [00:00<?, ?it/s]"
     ]
    },
    {
     "name": "stdout",
     "output_type": "stream",
     "text": [
      "adj_full  num edges: 108600\n",
      "adj_val   num edges: 4453\n",
      "adj_train num edges: 77708\n"
     ]
    },
    {
     "name": "stderr",
     "output_type": "stream",
     "text": [
      "100%|██████████| 108600/108600 [00:00<00:00, 315624.30it/s]\n",
      "  0%|          | 0/108600 [00:00<?, ?it/s]"
     ]
    },
    {
     "name": "stdout",
     "output_type": "stream",
     "text": [
      "adj_full  num edges: 108600\n",
      "adj_val   num edges: 7054\n",
      "adj_train num edges: 68243\n"
     ]
    },
    {
     "name": "stderr",
     "output_type": "stream",
     "text": [
      "100%|██████████| 108600/108600 [00:00<00:00, 301360.59it/s]\n"
     ]
    },
    {
     "name": "stdout",
     "output_type": "stream",
     "text": [
      "adj_full  num edges: 108600\n",
      "adj_val   num edges: 6934\n",
      "adj_train num edges: 68359\n"
     ]
    },
    {
     "name": "stderr",
     "output_type": "stream",
     "text": [
      "100%|██████████| 108600/108600 [00:00<00:00, 293295.13it/s]\n"
     ]
    },
    {
     "name": "stdout",
     "output_type": "stream",
     "text": [
      "adj_full  num edges: 108600\n",
      "adj_val   num edges: 5873\n",
      "adj_train num edges: 71721\n",
      "--Complete-- 5\n"
     ]
    }
   ],
   "source": [
    "# for n_neigh in [1, 3, 5, 7, 15]: \n",
    "node_feature_label, num_node, node_feat, label, mirna_ids, disease_ids, train_index_all, test_index_all, \\\n",
    "feats, role, class_map, adj_full, adj_train, adj_val, edge_src_dst = run(task = 'Td', isbalance = True)"
   ]
  },
  {
   "cell_type": "code",
   "execution_count": 19,
   "metadata": {
    "collapsed": true
   },
   "outputs": [
    {
     "name": "stdout",
     "output_type": "stream",
     "text": [
      "# miRNA = 495 | Disease = 383\n",
      "# Test: miRNA = 99 | Disease = 76\n",
      "[Errno 17] File exists: '/home/chujunyi/4_GNN/GraphSAINT/miRNA_disease_data/task_Tp__testlabel0_10knn_edge_fold0/' /home/chujunyi/4_GNN/GraphSAINT/miRNA_disease_data/task_Tp__testlabel0_10knn_edge_fold0/\n"
     ]
    },
    {
     "name": "stderr",
     "output_type": "stream",
     "text": [
      "100%|██████████| 108600/108600 [00:00<00:00, 285524.26it/s]\n"
     ]
    },
    {
     "name": "stdout",
     "output_type": "stream",
     "text": [
      "adj_full  num edges: 108600\n",
      "adj_val   num edges: 6130\n",
      "adj_train num edges: 71115\n"
     ]
    },
    {
     "name": "stderr",
     "output_type": "stream",
     "text": [
      "100%|██████████| 108600/108600 [00:00<00:00, 297827.22it/s]\n",
      "  0%|          | 0/108600 [00:00<?, ?it/s]"
     ]
    },
    {
     "name": "stdout",
     "output_type": "stream",
     "text": [
      "adj_full  num edges: 108600\n",
      "adj_val   num edges: 6075\n",
      "adj_train num edges: 71240\n"
     ]
    },
    {
     "name": "stderr",
     "output_type": "stream",
     "text": [
      "100%|██████████| 108600/108600 [00:00<00:00, 279150.05it/s]\n",
      "  0%|          | 0/108600 [00:00<?, ?it/s]"
     ]
    },
    {
     "name": "stdout",
     "output_type": "stream",
     "text": [
      "adj_full  num edges: 108600\n",
      "adj_val   num edges: 6091\n",
      "adj_train num edges: 71078\n"
     ]
    },
    {
     "name": "stderr",
     "output_type": "stream",
     "text": [
      "100%|██████████| 108600/108600 [00:00<00:00, 276119.87it/s]\n",
      "  0%|          | 0/108600 [00:00<?, ?it/s]"
     ]
    },
    {
     "name": "stdout",
     "output_type": "stream",
     "text": [
      "adj_full  num edges: 108600\n",
      "adj_val   num edges: 6123\n",
      "adj_train num edges: 71180\n"
     ]
    },
    {
     "name": "stderr",
     "output_type": "stream",
     "text": [
      "100%|██████████| 108600/108600 [00:00<00:00, 274717.01it/s]\n"
     ]
    },
    {
     "name": "stdout",
     "output_type": "stream",
     "text": [
      "adj_full  num edges: 108600\n",
      "adj_val   num edges: 6125\n",
      "adj_train num edges: 71731\n",
      "--Complete-- 5\n"
     ]
    }
   ],
   "source": [
    "# for n_neigh in [1, 3, 5, 7, 15]: \n",
    "node_feature_label, num_node, node_feat, label, mirna_ids, disease_ids, train_index_all, test_index_all, \\\n",
    "feats, role, class_map, adj_full, adj_train, adj_val, edge_src_dst = run(task = 'Tp', isbalance = True)"
   ]
  }
 ],
 "metadata": {
  "anaconda-cloud": {},
  "kernelspec": {
   "display_name": "torch_gpu",
   "language": "python",
   "name": "torch_gpu"
  },
  "language_info": {
   "codemirror_mode": {
    "name": "ipython",
    "version": 3
   },
   "file_extension": ".py",
   "mimetype": "text/x-python",
   "name": "python",
   "nbconvert_exporter": "python",
   "pygments_lexer": "ipython3",
   "version": "3.7.8"
  }
 },
 "nbformat": 4,
 "nbformat_minor": 1
}
