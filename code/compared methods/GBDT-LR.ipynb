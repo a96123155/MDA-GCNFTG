{
 "cells": [
  {
   "cell_type": "code",
   "execution_count": 1,
   "metadata": {},
   "outputs": [],
   "source": [
    "# -*- coding: utf-8 -*-\n",
    "import xlrd    #xlrd是读excel\n",
    "import numpy\n",
    "import time\n",
    "from sklearn.model_selection import cross_validate\n",
    "from sklearn.model_selection import cross_val_score\n",
    "import numpy as np\n",
    "from sklearn.model_selection import LeaveOneOut\n",
    "import math\n",
    "import numpy.linalg as LA\n",
    "from sklearn.cluster import KMeans\n",
    "import random\n",
    "from sklearn import tree\n",
    "from sklearn.ensemble import GradientBoostingClassifier\n",
    "from sklearn import model_selection,metrics\n",
    "from sklearn.model_selection import GridSearchCV\n",
    "import matplotlib.pylab as plt\n",
    "import matplotlib.pyplot as plt\n",
    "from sklearn.metrics import roc_curve, auc\n",
    "from sklearn.model_selection import StratifiedKFold\n",
    "from scipy import interp\n",
    "from sklearn.preprocessing import OneHotEncoder\n",
    "from sklearn.linear_model import LogisticRegression\n",
    "random.sample\n",
    "import pandas as pd\n",
    "from sklearn.model_selection import KFold\n",
    "from tqdm import tqdm\n",
    "from sklearn.metrics import confusion_matrix\n",
    "from sklearn.metrics import roc_auc_score, auc\n",
    "from sklearn.metrics import precision_recall_fscore_support\n",
    "from sklearn.metrics import precision_recall_curve\n",
    "from sklearn.metrics import classification_report\n",
    "from collections import Counter\n",
    "startTime = time.time()\n",
    "a=open('./data/Known disease-miRNA association number.xlsx')\n",
    "b=open('./data/Disease semantic similarity matrix-model 1.xlsx')\n",
    "c=open('./data/Disease semantic similarity matrix-model 2.xlsx')\n",
    "d=open('./data/Disease semantic similarity weighting matrix.xlsx')\n",
    "e=open('./data/miRNA functional similarity matrix.xlsx')\n",
    "f=open('./data/miRNA functional similarity weighting matrix.xlsx')\n",
    "g=open('./data/miRNA number.xlsx')\n",
    "h=open('./data/disease number.xlsx')"
   ]
  },
  {
   "cell_type": "code",
   "execution_count": 2,
   "metadata": {
    "collapsed": true
   },
   "outputs": [],
   "source": [
    "SS=numpy.zeros((383,383))  #383*383阶的零矩阵\n",
    "A=numpy.zeros((383,495))\n",
    "KD=numpy.zeros((383,383))\n",
    "SD=numpy.zeros((383,383))\n",
    "DWM=numpy.zeros((383,383))\n",
    "MWM=numpy.zeros((495,495))\n",
    "FS=numpy.zeros((495,495))\n",
    "SM=numpy.zeros((495,495))\n",
    "KM=numpy.zeros((495,495))"
   ]
  },
  {
   "cell_type": "code",
   "execution_count": 3,
   "metadata": {},
   "outputs": [],
   "source": [
    "xlsx1=xlrd.open_workbook('./data/Disease semantic similarity matrix-model 1.xlsx')\n",
    "xlsx2=xlrd.open_workbook('./data/Disease semantic similarity matrix-model 2.xlsx')  #打开Excel文件读取数据\n",
    "sheet1=xlsx1.sheets()[0]        ##通过索引顺序获取\n",
    "sheet2=xlsx2.sheets()[0]\n",
    "for i in range(383):\n",
    "    for j in range(383):\n",
    "        s1=sheet1.row_values(i)  #获取整行和整列的值（数组）\n",
    "        s2=sheet2.row_values(i)\n",
    "        m=s1[j]\n",
    "        n=s2[j]\n",
    "        SS[i,j]=float(m+n)/2          "
   ]
  },
  {
   "cell_type": "code",
   "execution_count": 4,
   "metadata": {
    "collapsed": true
   },
   "outputs": [],
   "source": [
    "xlsx3=xlrd.open_workbook('./data/Known disease-miRNA association number.xlsx')\n",
    "sheet3=xlsx3.sheets()[0]\n",
    "for i in range(5430):\n",
    "    s3=sheet3.row_values(i)\n",
    "    m=int(s3[0])\n",
    "    n=int(s3[1])\n",
    "    A[n-1,m-1]=1                    #Obtain adjacency matrix A   邻接矩阵  行：疾病 列：miRNA\n",
    "xlsx4=xlrd.open_workbook('./data/Disease semantic similarity weighting matrix.xlsx')\n",
    "sheet4=xlsx4.sheets()[0]\n",
    "for i in range(383):\n",
    "    for j in range(383):\n",
    "        s4=sheet4.row_values(i)\n",
    "        DWM[i,j]=s4[j]               #Get disease semantic weighting matrix DJQ\n",
    "xlsx5=xlrd.open_workbook('./data/miRNA functional similarity weighting matrix.xlsx')\n",
    "sheet5=xlsx5.sheets()[0]\n",
    "for i in range(495):\n",
    "    for j in range(495):\n",
    "        s5=sheet5.row_values(i)\n",
    "        MWM[i,j]=s5[j]               #Get miRNA functional similarity weighting matrix MJQ\n",
    "xlsx6=xlrd.open_workbook('./data/miRNA functional similarity matrix.xlsx')\n",
    "sheet6=xlsx6.sheets()[0]\n",
    "for i in range(495):\n",
    "    for j in range(495):\n",
    "        s6=sheet6.row_values(i)\n",
    "        FS[i,j]=s6[j]                  #Get miRNA functional similarity matrix FS"
   ]
  },
  {
   "cell_type": "code",
   "execution_count": 5,
   "metadata": {
    "collapsed": true
   },
   "outputs": [],
   "source": [
    "C=np.asmatrix(A)           #矩阵C   asmatrix(data[, dtype])：将输入解释为矩阵.\n",
    "gamd=383/(LA.norm(C,'fro')**2);   #norm(X,'fro') 计算矩阵 (向量) C的F范数;F范数是把一个矩阵中每个元素的平方求和后开根号；**两个乘号就是乘方，比如2**4,结果就是2的4次方，结果是16\n",
    "kd=np.mat(np.zeros((383,383)))     #创建一个零矩阵\n",
    "km=np.mat(np.zeros((495,495)))\n",
    "D=C*C.T;          #C*C的转置矩阵\n",
    "for i in range(383):\n",
    "        for j in range(i,383):\n",
    "            kd[j,i]=np.exp(-gamd*(D[i,i]+D[j,j]-2*D[i,j]))   # 高斯核相似计算\n",
    "kd=kd+kd.T-np.diag(np.diag(kd))   #两次使用diag() 获得某二维矩阵的对角矩阵：\n",
    "KD=np.asarray(kd)                  #Obtain Gaussian interaction profile kernel similarity for disease SD\n",
    "kd=[]\n",
    "SD = np.multiply(SS,DWM)+np.multiply(KD,(1-DWM))     #np.multiply(A,B)矩阵对应元素位置相乘   疾病综合相似性\n",
    "SD=np.asarray(SD)                                   #DWM  is disease semantic weighting matrix\n",
    "gamam = 495/(LA.norm(C,'fro')**2);\n",
    "E=C.T*C;\n",
    "for i in range(495):\n",
    "    for j in range(i,495):\n",
    "        km[i,j]=np.exp(-gamam*(E[i,i]+E[j,j]-2*E[i,j]))\n",
    "km=km+km.T-np.diag(np.diag(km))\n",
    "KM=np.asarray(km)\n",
    "km=[]\n",
    "SM = np.multiply(FS,MWM)+np.multiply(KM,(1-MWM))\n",
    "SM=np.asarray(SM)                                         #Obtain Gaussian interaction profile kernel similarity for miRNA SM"
   ]
  },
  {
   "cell_type": "code",
   "execution_count": 6,
   "metadata": {},
   "outputs": [],
   "source": [
    "#K_mean clustering\n",
    "unknown=[]\n",
    "known=[]\n",
    "for x in range(383):\n",
    "    for y in range(495):\n",
    "        if A[x,y]==0:\n",
    "            unknown.append((x,y))    #append() 方法向列表的尾部添加一个新的元素\n",
    "        else:\n",
    "            known.append((x,y))               #Divide the samples into Major and Minor\n",
    "            \n",
    "# if balanced:\n",
    "#     unknown = random.sample(unknown, len(known))\n",
    "\n",
    "# negative_x = [] # 负样本\n",
    "# for z in range(len(unknown)):\n",
    "#     q=SD[unknown[z][0],:].tolist()+SM[unknown[z][1],:].tolist()#tolist()将数组或者矩阵转换成列表    X[1,:] 取第一行的所有列数据\n",
    "#     negative_x.append(q)\n",
    "\n",
    "# positive_x = [] # 正样本\n",
    "# for z in range(len(known)):\n",
    "#     q=SD[known[z][0],:].tolist()+SM[known[z][1],:].tolist()#tolist()将数组或者矩阵转换成列表    X[1,:] 取第一行的所有列数据\n",
    "#     positive_x.append(q)"
   ]
  },
  {
   "cell_type": "code",
   "execution_count": 7,
   "metadata": {},
   "outputs": [
    {
     "data": {
      "text/html": [
       "<div>\n",
       "<style scoped>\n",
       "    .dataframe tbody tr th:only-of-type {\n",
       "        vertical-align: middle;\n",
       "    }\n",
       "\n",
       "    .dataframe tbody tr th {\n",
       "        vertical-align: top;\n",
       "    }\n",
       "\n",
       "    .dataframe thead th {\n",
       "        text-align: right;\n",
       "    }\n",
       "</style>\n",
       "<table border=\"1\" class=\"dataframe\">\n",
       "  <thead>\n",
       "    <tr style=\"text-align: right;\">\n",
       "      <th></th>\n",
       "      <th>disease</th>\n",
       "      <th>miRNA</th>\n",
       "      <th>label</th>\n",
       "    </tr>\n",
       "  </thead>\n",
       "  <tbody>\n",
       "    <tr>\n",
       "      <th>0</th>\n",
       "      <td>0</td>\n",
       "      <td>0</td>\n",
       "      <td>1</td>\n",
       "    </tr>\n",
       "    <tr>\n",
       "      <th>1</th>\n",
       "      <td>0</td>\n",
       "      <td>1</td>\n",
       "      <td>1</td>\n",
       "    </tr>\n",
       "    <tr>\n",
       "      <th>2</th>\n",
       "      <td>0</td>\n",
       "      <td>2</td>\n",
       "      <td>1</td>\n",
       "    </tr>\n",
       "    <tr>\n",
       "      <th>3</th>\n",
       "      <td>1</td>\n",
       "      <td>3</td>\n",
       "      <td>1</td>\n",
       "    </tr>\n",
       "    <tr>\n",
       "      <th>4</th>\n",
       "      <td>1</td>\n",
       "      <td>4</td>\n",
       "      <td>1</td>\n",
       "    </tr>\n",
       "    <tr>\n",
       "      <th>...</th>\n",
       "      <td>...</td>\n",
       "      <td>...</td>\n",
       "      <td>...</td>\n",
       "    </tr>\n",
       "    <tr>\n",
       "      <th>184150</th>\n",
       "      <td>382</td>\n",
       "      <td>490</td>\n",
       "      <td>0</td>\n",
       "    </tr>\n",
       "    <tr>\n",
       "      <th>184151</th>\n",
       "      <td>382</td>\n",
       "      <td>491</td>\n",
       "      <td>0</td>\n",
       "    </tr>\n",
       "    <tr>\n",
       "      <th>184152</th>\n",
       "      <td>382</td>\n",
       "      <td>492</td>\n",
       "      <td>0</td>\n",
       "    </tr>\n",
       "    <tr>\n",
       "      <th>184153</th>\n",
       "      <td>382</td>\n",
       "      <td>493</td>\n",
       "      <td>0</td>\n",
       "    </tr>\n",
       "    <tr>\n",
       "      <th>184154</th>\n",
       "      <td>382</td>\n",
       "      <td>494</td>\n",
       "      <td>0</td>\n",
       "    </tr>\n",
       "  </tbody>\n",
       "</table>\n",
       "<p>189585 rows × 3 columns</p>\n",
       "</div>"
      ],
      "text/plain": [
       "        disease  miRNA  label\n",
       "0             0      0      1\n",
       "1             0      1      1\n",
       "2             0      2      1\n",
       "3             1      3      1\n",
       "4             1      4      1\n",
       "...         ...    ...    ...\n",
       "184150      382    490      0\n",
       "184151      382    491      0\n",
       "184152      382    492      0\n",
       "184153      382    493      0\n",
       "184154      382    494      0\n",
       "\n",
       "[189585 rows x 3 columns]"
      ]
     },
     "execution_count": 7,
     "metadata": {},
     "output_type": "execute_result"
    }
   ],
   "source": [
    "positive = pd.DataFrame(known, columns = ['disease', 'miRNA'])\n",
    "negative = pd.DataFrame(unknown, columns = ['disease', 'miRNA'])\n",
    "positive['label'] = 1\n",
    "negative['label'] = 0\n",
    "dtp = pd.concat([positive, negative], axis = 0)\n",
    "dtp"
   ]
  },
  {
   "cell_type": "code",
   "execution_count": 8,
   "metadata": {},
   "outputs": [],
   "source": [
    "SD = pd.DataFrame(SD)\n",
    "SM = pd.DataFrame(SM)"
   ]
  },
  {
   "cell_type": "markdown",
   "metadata": {},
   "source": [
    "# run"
   ]
  },
  {
   "cell_type": "code",
   "execution_count": 9,
   "metadata": {
    "collapsed": true
   },
   "outputs": [],
   "source": [
    "def sample(all_associations, random_seed):\n",
    "    \n",
    "    known_associations = all_associations.loc[all_associations['label'] == 1]\n",
    "    unknown_associations = all_associations.loc[all_associations['label'] == 0]\n",
    "    random_negative = unknown_associations.sample(n = known_associations.shape[0], random_state = random_seed, axis=0)\n",
    "\n",
    "    sample_df = known_associations.append(random_negative)\n",
    "    sample_df.reset_index(drop=True, inplace=True)\n",
    "\n",
    "    return sample_df"
   ]
  },
  {
   "cell_type": "code",
   "execution_count": 10,
   "metadata": {
    "collapsed": true
   },
   "outputs": [],
   "source": [
    "def obtain_data(dtp, ID, IM, isbalance):\n",
    "\n",
    "    if isbalance:\n",
    "        dtp = sample(dtp, random_seed = 1234)\n",
    "\n",
    "    mirna_ids = list(set(dtp['miRNA']))\n",
    "    disease_ids = list(set(dtp['disease']))\n",
    "    random.shuffle(mirna_ids)\n",
    "    random.shuffle(disease_ids)\n",
    "    print('# miRNA = {} | Disease = {}'.format(len(mirna_ids), len(disease_ids)))\n",
    "\n",
    "    mirna_test_num = int(len(mirna_ids) / 5)\n",
    "    disease_test_num = int(len(disease_ids) / 5)\n",
    "    print('# Test: miRNA = {} | Disease = {}'.format(mirna_test_num, disease_test_num))    \n",
    "    \n",
    "    samples = pd.merge(pd.merge(dtp, ID, left_on = 'disease', right_index = True), IM, left_on = 'miRNA', right_index = True).reset_index(drop = True)\n",
    "#     samples.drop(labels = ['id_x', 'id_y'], axis = 1, inplace = True)\n",
    "    \n",
    "    return mirna_ids, disease_ids, mirna_test_num, disease_test_num, samples\n"
   ]
  },
  {
   "cell_type": "code",
   "execution_count": 11,
   "metadata": {
    "collapsed": true
   },
   "outputs": [],
   "source": [
    "def performances(y_true, y_pred, y_prob):\n",
    "\n",
    "    tn, fp, fn, tp = confusion_matrix(y_true, y_pred, labels = [0, 1]).ravel().tolist()\n",
    "\n",
    "    accuracy = (tp+tn)/(tn+fp+fn+tp)\n",
    "    \n",
    "    if tp+fn == 0:\n",
    "        recall = 0\n",
    "    else:\n",
    "        recall = tp / (tp+fn)\n",
    "    \n",
    "    if tp+fp == 0:\n",
    "        precision = 0\n",
    "    else:\n",
    "        precision = tp / (tp+fp)\n",
    "    \n",
    "    if precision + recall == 0:\n",
    "        f1 = 0\n",
    "    else:\n",
    "        f1 = 2*precision*recall / (precision+recall)\n",
    "    \n",
    "    roc_auc = roc_auc_score(y_true, y_prob)\n",
    "    prec, reca, _ = precision_recall_curve(y_true, y_prob)\n",
    "    aupr = auc(reca, prec)\n",
    "    \n",
    "    print('tn = {}, fp = {}, fn = {}, tp = {}'.format(tn, fp, fn, tp))\n",
    "    print('y_pred: 0 = {} | 1 = {}'.format(Counter(y_pred)[0], Counter(y_pred)[1]))\n",
    "    print('y_true: 0 = {} | 1 = {}'.format(Counter(y_true)[0], Counter(y_true)[1]))\n",
    "    print('acc={:.4f}|precision={:.4f}|recall={:.4f}|f1={:.4f}|auc={:.4f}|aupr={:.4f}'.format(accuracy, precision, recall, f1, roc_auc, aupr))\n",
    "    return (y_true, y_pred, y_prob), (accuracy, precision, recall, f1, roc_auc, aupr)\n"
   ]
  },
  {
   "cell_type": "code",
   "execution_count": 12,
   "metadata": {
    "collapsed": true
   },
   "outputs": [],
   "source": [
    "def generate_task_Tp_train_test_idx(samples):\n",
    "    kf = KFold(n_splits = 5, shuffle = True, random_state = 1234)\n",
    "\n",
    "    train_index_all, test_index_all, n = [], [], 0\n",
    "    train_id_all, test_id_all = [], []\n",
    "    fold = 0\n",
    "    for train_idx, test_idx in tqdm(kf.split(samples.iloc[:, 3:])): #train_index与test_index为下标\n",
    "        print('-------Fold ', fold)\n",
    "        train_index_all.append(train_idx) \n",
    "        test_index_all.append(test_idx)\n",
    "\n",
    "        train_id_all.append(np.array(dtp.iloc[train_idx][['miRNA', 'disease']]))\n",
    "        test_id_all.append(np.array(dtp.iloc[test_idx][['miRNA', 'disease']]))\n",
    "\n",
    "        print('# Pairs: Train = {} | Test = {}'.format(len(train_idx), len(test_idx)))\n",
    "        fold += 1\n",
    "    return train_index_all, test_index_all, train_id_all, test_id_all\n",
    "\n",
    "\n",
    "# In[7]:\n",
    "\n",
    "def generate_task_Tm_Td_train_test_idx(item, ids, dtp):\n",
    "    \n",
    "    test_num = int(len(ids) / 5)\n",
    "    \n",
    "    train_index_all, test_index_all = [], []\n",
    "    train_id_all, test_id_all = [], []\n",
    "    \n",
    "    for fold in range(5):\n",
    "        print('-------Fold ', fold)\n",
    "        if fold != 4:\n",
    "            test_ids = ids[fold * test_num : (fold + 1) * test_num]\n",
    "        else:\n",
    "            test_ids = ids[fold * test_num :]\n",
    "\n",
    "        train_ids = list(set(ids) ^ set(test_ids))\n",
    "        print('# {}: Train = {} | Test = {}'.format(item, len(train_ids), len(test_ids)))\n",
    "\n",
    "        test_idx = dtp[dtp[item].isin(test_ids)].index.tolist()\n",
    "        train_idx = dtp[dtp[item].isin(train_ids)].index.tolist()\n",
    "        random.shuffle(test_idx)\n",
    "        random.shuffle(train_idx)\n",
    "        print('# Pairs: Train = {} | Test = {}'.format(len(train_idx), len(test_idx)))\n",
    "        assert len(train_idx) + len(test_idx) == len(dtp)\n",
    "\n",
    "        train_index_all.append(train_idx) \n",
    "        test_index_all.append(test_idx)\n",
    "        \n",
    "        train_id_all.append(train_ids)\n",
    "        test_id_all.append(test_ids)\n",
    "        \n",
    "    return train_index_all, test_index_all, train_id_all, test_id_all\n"
   ]
  },
  {
   "cell_type": "code",
   "execution_count": 13,
   "metadata": {
    "collapsed": true
   },
   "outputs": [],
   "source": [
    "def transfer(y_pred):\n",
    "    return [[0,1][x>0.5] for x in y_pred.reshape(-1)]"
   ]
  },
  {
   "cell_type": "code",
   "execution_count": 14,
   "metadata": {
    "collapsed": true
   },
   "outputs": [],
   "source": [
    "def run(train_index_all, test_index_all, samples):\n",
    "    \n",
    "    fold = 0\n",
    "    for train_idx, test_idx in zip(train_index_all, test_index_all):\n",
    "        print('----------------------- Fold = ', str(fold))\n",
    "\n",
    "        X = samples.iloc[:, 3:]\n",
    "        y = samples['label']\n",
    "        x_train, y_train = X.iloc[train_idx], y.iloc[train_idx]\n",
    "        x_test, y_test = X.iloc[test_idx], y.iloc[test_idx]\n",
    "    \n",
    "        GBDT=GradientBoostingClassifier(n_estimators = 12, max_depth = 5, min_samples_leaf = 13)\n",
    "        # 训练模型\n",
    "        GBDT.fit(x_train, y_train)\n",
    "        OHE = OneHotEncoder()\n",
    "        OHE.fit(GBDT.apply(x_train)[:, :, 0]) # model.apply(X_train)返回训练数据X_train在训练好的模型里每棵树中所处的叶子节点的位置（索引）\n",
    "        LR = LogisticRegression(n_jobs = -1)\n",
    "        LR.fit(OHE.transform(GBDT.apply(x_train)[:, :, 0]),y_train)\n",
    "        \n",
    "        y_train_prob = LR.predict_proba(OHE.transform(GBDT.apply(x_train)[:, :, 0]))[:,1]\n",
    "        y_test_prob = LR.predict_proba(OHE.transform(GBDT.apply(x_test)[:, :, 0]))[:,1]\n",
    "\n",
    "        y_train_pred, y_test_pred = transfer(y_train_prob), transfer(y_test_prob)\n",
    "\n",
    "        print(len(y_train_pred), len(y_train))\n",
    "        performances_train = performances(y_train, y_train_pred, y_train_prob)\n",
    "        performances_test = performances(y_test, y_test_pred, y_test_prob)\n",
    "\n",
    "        fold += 1\n",
    "    \n",
    "    return y_train_pred, y_test_pred, y_train_prob, y_test_prob, performances_train, performances_test\n"
   ]
  },
  {
   "cell_type": "code",
   "execution_count": 15,
   "metadata": {
    "scrolled": true
   },
   "outputs": [],
   "source": [
    "# mirna_ids, disease_ids, mirna_test_num, disease_test_num, samples = obtain_data(dtp, SD, SM, isbalance = True)\n",
    "# item = 'miRNA'\n",
    "# ids = mirna_ids\n",
    "# train_index_all, test_index_all, train_id_all, test_id_all = generate_task_Tm_Td_train_test_idx(item, ids, samples)\n",
    "# fold = 0\n",
    "# for train_idx, test_idx in zip(train_index_all, test_index_all):\n",
    "#     print('----------------------- Fold = ', str(fold))\n",
    "\n",
    "#     X = samples.iloc[:, 3:]\n",
    "#     y = samples['label']\n",
    "#     x_train, y_train = X.iloc[train_idx], y[train_idx]\n",
    "#     x_test, y_test = X.iloc[test_idx], y[test_idx]\n",
    "\n",
    "#     GBDT=GradientBoostingClassifier(n_estimators = 12, max_depth = 5, min_samples_leaf = 13)\n",
    "#     # 训练模型\n",
    "#     GBDT.fit(x_train, y_train)\n",
    "#     OHE = OneHotEncoder()\n",
    "#     OHE.fit(GBDT.apply(x_train)[:, :, 0]) # model.apply(X_train)返回训练数据X_train在训练好的模型里每棵树中所处的叶子节点的位置（索引）\n",
    "#     LR = LogisticRegression(n_jobs = -1)\n",
    "#     LR.fit(OHE.transform(GBDT.apply(x_train)[:, :, 0]),y_train)\n",
    "\n",
    "#     y_train_prob = LR.predict_proba(OHE.transform(GBDT.apply(x_train)[:, :, 0]))[:,1]\n",
    "#     y_test_prob = LR.predict_proba(OHE.transform(GBDT.apply(x_test)[:, :, 0]))[:,1]\n",
    "\n",
    "#     y_train_pred, y_test_pred = transfer(y_train_prob), transfer(y_test_prob)\n",
    "\n",
    "#     print(len(y_train_pred), len(y_train))\n",
    "#     performances_train = performances(y_train, y_train_pred, y_train_prob)\n",
    "#     performances_test = performances(y_test, y_test_pred, y_test_prob)\n",
    "#     break"
   ]
  },
  {
   "cell_type": "markdown",
   "metadata": {},
   "source": [
    "# Tp"
   ]
  },
  {
   "cell_type": "code",
   "execution_count": 16,
   "metadata": {
    "scrolled": true
   },
   "outputs": [
    {
     "name": "stdout",
     "output_type": "stream",
     "text": [
      "# miRNA = 495 | Disease = 383\n",
      "# Test: miRNA = 99 | Disease = 76\n"
     ]
    },
    {
     "name": "stderr",
     "output_type": "stream",
     "text": [
      "5it [00:00, 81.55it/s]"
     ]
    },
    {
     "name": "stdout",
     "output_type": "stream",
     "text": [
      "========== isbalance = False | task = Tp\n",
      "-------Fold  0\n",
      "# Pairs: Train = 151668 | Test = 37917\n",
      "-------Fold  1\n",
      "# Pairs: Train = 151668 | Test = 37917\n",
      "-------Fold  2\n",
      "# Pairs: Train = 151668 | Test = 37917\n",
      "-------Fold  3\n",
      "# Pairs: Train = 151668 | Test = 37917\n",
      "-------Fold  4\n",
      "# Pairs: Train = 151668 | Test = 37917\n",
      "----------------------- Fold =  0\n"
     ]
    },
    {
     "name": "stderr",
     "output_type": "stream",
     "text": [
      "\n",
      "/home/chujunyi/anaconda3/envs/python36/lib/python3.6/site-packages/ipykernel_launcher.py:2: DeprecationWarning: In future, it will be an error for 'np.bool_' scalars to be interpreted as an index\n",
      "  \n"
     ]
    },
    {
     "name": "stdout",
     "output_type": "stream",
     "text": [
      "151668 151668\n",
      "tn = 146766, fp = 527, fn = 2855, tp = 1520\n",
      "y_pred: 0 = 149621 | 1 = 2047\n",
      "y_true: 0 = 147293 | 1 = 4375\n",
      "acc=0.9777|precision=0.7426|recall=0.3474|f1=0.4734|auc=0.9492|aupr=0.5614\n",
      "tn = 36706, fp = 156, fn = 736, tp = 319\n",
      "y_pred: 0 = 37442 | 1 = 475\n",
      "y_true: 0 = 36862 | 1 = 1055\n",
      "acc=0.9765|precision=0.6716|recall=0.3024|f1=0.4170|auc=0.9425|aupr=0.4851\n",
      "----------------------- Fold =  1\n"
     ]
    },
    {
     "name": "stderr",
     "output_type": "stream",
     "text": [
      "/home/chujunyi/anaconda3/envs/python36/lib/python3.6/site-packages/ipykernel_launcher.py:2: DeprecationWarning: In future, it will be an error for 'np.bool_' scalars to be interpreted as an index\n",
      "  \n"
     ]
    },
    {
     "name": "stdout",
     "output_type": "stream",
     "text": [
      "151668 151668\n",
      "tn = 146726, fp = 540, fn = 2908, tp = 1494\n",
      "y_pred: 0 = 149634 | 1 = 2034\n",
      "y_true: 0 = 147266 | 1 = 4402\n",
      "acc=0.9773|precision=0.7345|recall=0.3394|f1=0.4643|auc=0.9487|aupr=0.5499\n",
      "tn = 36724, fp = 165, fn = 695, tp = 333\n",
      "y_pred: 0 = 37419 | 1 = 498\n",
      "y_true: 0 = 36889 | 1 = 1028\n",
      "acc=0.9773|precision=0.6687|recall=0.3239|f1=0.4364|auc=0.9395|aupr=0.4853\n",
      "----------------------- Fold =  2\n"
     ]
    },
    {
     "name": "stderr",
     "output_type": "stream",
     "text": [
      "/home/chujunyi/anaconda3/envs/python36/lib/python3.6/site-packages/ipykernel_launcher.py:2: DeprecationWarning: In future, it will be an error for 'np.bool_' scalars to be interpreted as an index\n",
      "  \n"
     ]
    },
    {
     "name": "stdout",
     "output_type": "stream",
     "text": [
      "151668 151668\n",
      "tn = 146853, fp = 504, fn = 2833, tp = 1478\n",
      "y_pred: 0 = 149686 | 1 = 1982\n",
      "y_true: 0 = 147357 | 1 = 4311\n",
      "acc=0.9780|precision=0.7457|recall=0.3428|f1=0.4697|auc=0.9476|aupr=0.5494\n",
      "tn = 36643, fp = 155, fn = 806, tp = 313\n",
      "y_pred: 0 = 37449 | 1 = 468\n",
      "y_true: 0 = 36798 | 1 = 1119\n",
      "acc=0.9747|precision=0.6688|recall=0.2797|f1=0.3945|auc=0.9379|aupr=0.4690\n",
      "----------------------- Fold =  3\n"
     ]
    },
    {
     "name": "stderr",
     "output_type": "stream",
     "text": [
      "/home/chujunyi/anaconda3/envs/python36/lib/python3.6/site-packages/ipykernel_launcher.py:2: DeprecationWarning: In future, it will be an error for 'np.bool_' scalars to be interpreted as an index\n",
      "  \n"
     ]
    },
    {
     "name": "stdout",
     "output_type": "stream",
     "text": [
      "151668 151668\n",
      "tn = 146856, fp = 507, fn = 2834, tp = 1471\n",
      "y_pred: 0 = 149690 | 1 = 1978\n",
      "y_true: 0 = 147363 | 1 = 4305\n",
      "acc=0.9780|precision=0.7437|recall=0.3417|f1=0.4682|auc=0.9497|aupr=0.5627\n",
      "tn = 36619, fp = 173, fn = 785, tp = 340\n",
      "y_pred: 0 = 37404 | 1 = 513\n",
      "y_true: 0 = 36792 | 1 = 1125\n",
      "acc=0.9747|precision=0.6628|recall=0.3022|f1=0.4151|auc=0.9407|aupr=0.4861\n",
      "----------------------- Fold =  4\n"
     ]
    },
    {
     "name": "stderr",
     "output_type": "stream",
     "text": [
      "/home/chujunyi/anaconda3/envs/python36/lib/python3.6/site-packages/ipykernel_launcher.py:2: DeprecationWarning: In future, it will be an error for 'np.bool_' scalars to be interpreted as an index\n",
      "  \n"
     ]
    },
    {
     "name": "stdout",
     "output_type": "stream",
     "text": [
      "151668 151668\n",
      "tn = 146825, fp = 516, fn = 2887, tp = 1440\n",
      "y_pred: 0 = 149712 | 1 = 1956\n",
      "y_true: 0 = 147341 | 1 = 4327\n",
      "acc=0.9776|precision=0.7362|recall=0.3328|f1=0.4584|auc=0.9488|aupr=0.5457\n",
      "tn = 36649, fp = 165, fn = 765, tp = 338\n",
      "y_pred: 0 = 37414 | 1 = 503\n",
      "y_true: 0 = 36814 | 1 = 1103\n",
      "acc=0.9755|precision=0.6720|recall=0.3064|f1=0.4209|auc=0.9381|aupr=0.4827\n",
      "========== isbalance = False | task = Tm\n",
      "-------Fold  0\n",
      "# miRNA: Train = 396 | Test = 99\n",
      "# Pairs: Train = 151668 | Test = 37917\n",
      "-------Fold  1\n",
      "# miRNA: Train = 396 | Test = 99\n",
      "# Pairs: Train = 151668 | Test = 37917\n",
      "-------Fold  2\n",
      "# miRNA: Train = 396 | Test = 99\n",
      "# Pairs: Train = 151668 | Test = 37917\n",
      "-------Fold  3\n",
      "# miRNA: Train = 396 | Test = 99\n",
      "# Pairs: Train = 151668 | Test = 37917\n",
      "-------Fold  4\n",
      "# miRNA: Train = 396 | Test = 99\n",
      "# Pairs: Train = 151668 | Test = 37917\n",
      "----------------------- Fold =  0\n"
     ]
    },
    {
     "name": "stderr",
     "output_type": "stream",
     "text": [
      "/home/chujunyi/anaconda3/envs/python36/lib/python3.6/site-packages/ipykernel_launcher.py:2: DeprecationWarning: In future, it will be an error for 'np.bool_' scalars to be interpreted as an index\n",
      "  \n"
     ]
    },
    {
     "name": "stdout",
     "output_type": "stream",
     "text": [
      "151668 151668\n",
      "tn = 146809, fp = 532, fn = 2920, tp = 1407\n",
      "y_pred: 0 = 149729 | 1 = 1939\n",
      "y_true: 0 = 147341 | 1 = 4327\n",
      "acc=0.9772|precision=0.7256|recall=0.3252|f1=0.4491|auc=0.9488|aupr=0.5495\n",
      "tn = 36654, fp = 160, fn = 738, tp = 365\n",
      "y_pred: 0 = 37392 | 1 = 525\n",
      "y_true: 0 = 36814 | 1 = 1103\n",
      "acc=0.9763|precision=0.6952|recall=0.3309|f1=0.4484|auc=0.9414|aupr=0.5257\n",
      "----------------------- Fold =  1\n"
     ]
    },
    {
     "name": "stderr",
     "output_type": "stream",
     "text": [
      "/home/chujunyi/anaconda3/envs/python36/lib/python3.6/site-packages/ipykernel_launcher.py:2: DeprecationWarning: In future, it will be an error for 'np.bool_' scalars to be interpreted as an index\n",
      "  \n"
     ]
    },
    {
     "name": "stdout",
     "output_type": "stream",
     "text": [
      "151668 151668\n",
      "tn = 146887, fp = 537, fn = 2737, tp = 1507\n",
      "y_pred: 0 = 149624 | 1 = 2044\n",
      "y_true: 0 = 147424 | 1 = 4244\n",
      "acc=0.9784|precision=0.7373|recall=0.3551|f1=0.4793|auc=0.9506|aupr=0.5589\n",
      "tn = 36525, fp = 206, fn = 813, tp = 373\n",
      "y_pred: 0 = 37338 | 1 = 579\n",
      "y_true: 0 = 36731 | 1 = 1186\n",
      "acc=0.9731|precision=0.6442|recall=0.3145|f1=0.4227|auc=0.9389|aupr=0.4818\n",
      "----------------------- Fold =  "
     ]
    },
    {
     "name": "stderr",
     "output_type": "stream",
     "text": [
      "/home/chujunyi/anaconda3/envs/python36/lib/python3.6/site-packages/ipykernel_launcher.py:2: DeprecationWarning: In future, it will be an error for 'np.bool_' scalars to be interpreted as an index\n",
      "  \n"
     ]
    },
    {
     "name": "stdout",
     "output_type": "stream",
     "text": [
      "2\n",
      "151668 151668\n",
      "tn = 146848, fp = 530, fn = 2868, tp = 1422\n",
      "y_pred: 0 = 149716 | 1 = 1952\n",
      "y_true: 0 = 147378 | 1 = 4290\n",
      "acc=0.9776|precision=0.7285|recall=0.3315|f1=0.4556|auc=0.9473|aupr=0.5395\n",
      "tn = 36623, fp = 154, fn = 794, tp = 346\n",
      "y_pred: 0 = 37417 | 1 = 500\n",
      "y_true: 0 = 36777 | 1 = 1140\n",
      "acc=0.9750|precision=0.6920|recall=0.3035|f1=0.4220|auc=0.9441|aupr=0.5131\n",
      "----------------------- Fold =  3\n"
     ]
    },
    {
     "name": "stderr",
     "output_type": "stream",
     "text": [
      "/home/chujunyi/anaconda3/envs/python36/lib/python3.6/site-packages/ipykernel_launcher.py:2: DeprecationWarning: In future, it will be an error for 'np.bool_' scalars to be interpreted as an index\n",
      "  \n"
     ]
    },
    {
     "name": "stdout",
     "output_type": "stream",
     "text": [
      "151668 151668\n",
      "tn = 146798, fp = 515, fn = 2852, tp = 1503\n",
      "y_pred: 0 = 149650 | 1 = 2018\n",
      "y_true: 0 = 147313 | 1 = 4355\n",
      "acc=0.9778|precision=0.7448|recall=0.3451|f1=0.4717|auc=0.9504|aupr=0.5681\n",
      "tn = 36683, fp = 159, fn = 780, tp = 295\n",
      "y_pred: 0 = 37463 | 1 = 454\n",
      "y_true: 0 = 36842 | 1 = 1075\n",
      "acc=0.9752|precision=0.6498|recall=0.2744|f1=0.3859|auc=0.9361|aupr=0.4569\n",
      "----------------------- Fold =  4\n"
     ]
    },
    {
     "name": "stderr",
     "output_type": "stream",
     "text": [
      "/home/chujunyi/anaconda3/envs/python36/lib/python3.6/site-packages/ipykernel_launcher.py:2: DeprecationWarning: In future, it will be an error for 'np.bool_' scalars to be interpreted as an index\n",
      "  \n"
     ]
    },
    {
     "name": "stdout",
     "output_type": "stream",
     "text": [
      "151668 151668\n",
      "tn = 146624, fp = 540, fn = 2930, tp = 1574\n",
      "y_pred: 0 = 149554 | 1 = 2114\n",
      "y_true: 0 = 147164 | 1 = 4504\n",
      "acc=0.9771|precision=0.7446|recall=0.3495|f1=0.4757|auc=0.9501|aupr=0.5667\n",
      "tn = 36867, fp = 124, fn = 684, tp = 242\n",
      "y_pred: 0 = 37551 | 1 = 366\n",
      "y_true: 0 = 36991 | 1 = 926\n",
      "acc=0.9787|precision=0.6612|recall=0.2613|f1=0.3746|auc=0.9340|aupr=0.4316\n",
      "========== isbalance = False | task = Td\n",
      "-------Fold  0\n",
      "# disease: Train = 307 | Test = 76\n",
      "# Pairs: Train = 151965 | Test = 37620\n",
      "-------Fold  1\n",
      "# disease: Train = 307 | Test = 76\n",
      "# Pairs: Train = 151965 | Test = 37620\n",
      "-------Fold  2\n",
      "# disease: Train = 307 | Test = 76\n",
      "# Pairs: Train = 151965 | Test = 37620\n",
      "-------Fold  3\n",
      "# disease: Train = 307 | Test = 76\n",
      "# Pairs: Train = 151965 | Test = 37620\n",
      "-------Fold  4\n",
      "# disease: Train = 304 | Test = 79\n",
      "# Pairs: Train = 150480 | Test = 39105\n",
      "----------------------- Fold =  0\n"
     ]
    },
    {
     "name": "stderr",
     "output_type": "stream",
     "text": [
      "/home/chujunyi/anaconda3/envs/python36/lib/python3.6/site-packages/ipykernel_launcher.py:2: DeprecationWarning: In future, it will be an error for 'np.bool_' scalars to be interpreted as an index\n",
      "  \n"
     ]
    },
    {
     "name": "stdout",
     "output_type": "stream",
     "text": [
      "151965 151965\n",
      "tn = 147001, fp = 552, fn = 2938, tp = 1474\n",
      "y_pred: 0 = 149939 | 1 = 2026\n",
      "y_true: 0 = 147553 | 1 = 4412\n",
      "acc=0.9770|precision=0.7275|recall=0.3341|f1=0.4579|auc=0.9489|aupr=0.5524\n",
      "tn = 36435, fp = 167, fn = 722, tp = 296\n",
      "y_pred: 0 = 37157 | 1 = 463\n",
      "y_true: 0 = 36602 | 1 = 1018\n",
      "acc=0.9764|precision=0.6393|recall=0.2908|f1=0.3997|auc=0.9335|aupr=0.4430\n",
      "----------------------- Fold =  1"
     ]
    },
    {
     "name": "stderr",
     "output_type": "stream",
     "text": [
      "/home/chujunyi/anaconda3/envs/python36/lib/python3.6/site-packages/ipykernel_launcher.py:2: DeprecationWarning: In future, it will be an error for 'np.bool_' scalars to be interpreted as an index\n",
      "  \n"
     ]
    },
    {
     "name": "stdout",
     "output_type": "stream",
     "text": [
      "\n",
      "151965 151965\n",
      "tn = 147253, fp = 510, fn = 2828, tp = 1374\n",
      "y_pred: 0 = 150081 | 1 = 1884\n",
      "y_true: 0 = 147763 | 1 = 4202\n",
      "acc=0.9780|precision=0.7293|recall=0.3270|f1=0.4515|auc=0.9474|aupr=0.5501\n",
      "tn = 36147, fp = 245, fn = 869, tp = 359\n",
      "y_pred: 0 = 37016 | 1 = 604\n",
      "y_true: 0 = 36392 | 1 = 1228\n",
      "acc=0.9704|precision=0.5944|recall=0.2923|f1=0.3919|auc=0.9258|aupr=0.4157\n",
      "----------------------- Fold =  2\n"
     ]
    },
    {
     "name": "stderr",
     "output_type": "stream",
     "text": [
      "/home/chujunyi/anaconda3/envs/python36/lib/python3.6/site-packages/ipykernel_launcher.py:2: DeprecationWarning: In future, it will be an error for 'np.bool_' scalars to be interpreted as an index\n",
      "  \n"
     ]
    },
    {
     "name": "stdout",
     "output_type": "stream",
     "text": [
      "151965 151965\n",
      "tn = 146720, fp = 588, fn = 3022, tp = 1635\n",
      "y_pred: 0 = 149742 | 1 = 2223\n",
      "y_true: 0 = 147308 | 1 = 4657\n",
      "acc=0.9762|precision=0.7355|recall=0.3511|f1=0.4753|auc=0.9504|aupr=0.5650\n",
      "tn = 36765, fp = 82, fn = 613, tp = 160\n",
      "y_pred: 0 = 37378 | 1 = 242\n",
      "y_true: 0 = 36847 | 1 = 773\n",
      "acc=0.9815|precision=0.6612|recall=0.2070|f1=0.3153|auc=0.9241|aupr=0.3901\n",
      "----------------------- Fold =  3"
     ]
    },
    {
     "name": "stderr",
     "output_type": "stream",
     "text": [
      "/home/chujunyi/anaconda3/envs/python36/lib/python3.6/site-packages/ipykernel_launcher.py:2: DeprecationWarning: In future, it will be an error for 'np.bool_' scalars to be interpreted as an index\n",
      "  \n"
     ]
    },
    {
     "name": "stdout",
     "output_type": "stream",
     "text": [
      "\n",
      "151965 151965\n",
      "tn = 147188, fp = 522, fn = 2800, tp = 1455\n",
      "y_pred: 0 = 149988 | 1 = 1977\n",
      "y_true: 0 = 147710 | 1 = 4255\n",
      "acc=0.9781|precision=0.7360|recall=0.3420|f1=0.4669|auc=0.9485|aupr=0.5456\n",
      "tn = 36236, fp = 209, fn = 818, tp = 357\n",
      "y_pred: 0 = 37054 | 1 = 566\n",
      "y_true: 0 = 36445 | 1 = 1175\n",
      "acc=0.9727|precision=0.6307|recall=0.3038|f1=0.4101|auc=0.9256|aupr=0.4453\n",
      "----------------------- Fold =  4\n"
     ]
    },
    {
     "name": "stderr",
     "output_type": "stream",
     "text": [
      "/home/chujunyi/anaconda3/envs/python36/lib/python3.6/site-packages/ipykernel_launcher.py:2: DeprecationWarning: In future, it will be an error for 'np.bool_' scalars to be interpreted as an index\n",
      "  \n"
     ]
    },
    {
     "name": "stdout",
     "output_type": "stream",
     "text": [
      "150480 150480\n",
      "tn = 145783, fp = 503, fn = 2704, tp = 1490\n",
      "y_pred: 0 = 148487 | 1 = 1993\n",
      "y_true: 0 = 146286 | 1 = 4194\n",
      "acc=0.9787|precision=0.7476|recall=0.3553|f1=0.4817|auc=0.9507|aupr=0.5664\n",
      "tn = 37655, fp = 214, fn = 923, tp = 313\n",
      "y_pred: 0 = 38578 | 1 = 527\n",
      "y_true: 0 = 37869 | 1 = 1236\n",
      "acc=0.9709|precision=0.5939|recall=0.2532|f1=0.3551|auc=0.9135|aupr=0.3948\n",
      "# miRNA = 495 | Disease = 383\n",
      "# Test: miRNA = 99 | Disease = 76\n"
     ]
    },
    {
     "name": "stderr",
     "output_type": "stream",
     "text": [
      "5it [00:00, 175.26it/s]"
     ]
    },
    {
     "name": "stdout",
     "output_type": "stream",
     "text": [
      "========== isbalance = True | task = Tp\n",
      "-------Fold  0\n",
      "# Pairs: Train = 8688 | Test = 2172\n",
      "-------Fold  1\n",
      "# Pairs: Train = 8688 | Test = 2172\n",
      "-------Fold  2\n",
      "# Pairs: Train = 8688 | Test = 2172\n",
      "-------Fold  3\n",
      "# Pairs: Train = 8688 | Test = 2172\n",
      "-------Fold  4\n",
      "# Pairs: Train = 8688 | Test = 2172\n",
      "----------------------- Fold =  0\n"
     ]
    },
    {
     "name": "stderr",
     "output_type": "stream",
     "text": [
      "\n",
      "/home/chujunyi/anaconda3/envs/python36/lib/python3.6/site-packages/ipykernel_launcher.py:2: DeprecationWarning: In future, it will be an error for 'np.bool_' scalars to be interpreted as an index\n",
      "  \n"
     ]
    },
    {
     "name": "stdout",
     "output_type": "stream",
     "text": [
      "8688 8688\n",
      "tn = 3850, fp = 507, fn = 382, tp = 3949\n",
      "y_pred: 0 = 4232 | 1 = 4456\n",
      "y_true: 0 = 4357 | 1 = 4331\n",
      "acc=0.8977|precision=0.8862|recall=0.9118|f1=0.8988|auc=0.9621|aupr=0.9597\n",
      "tn = 908, fp = 165, fn = 141, tp = 958\n",
      "y_pred: 0 = 1049 | 1 = 1123\n",
      "y_true: 0 = 1073 | 1 = 1099\n",
      "acc=0.8591|precision=0.8531|recall=0.8717|f1=0.8623|auc=0.9295|aupr=0.9145\n",
      "----------------------- Fold =  1\n"
     ]
    },
    {
     "name": "stderr",
     "output_type": "stream",
     "text": [
      "/home/chujunyi/anaconda3/envs/python36/lib/python3.6/site-packages/ipykernel_launcher.py:2: DeprecationWarning: In future, it will be an error for 'np.bool_' scalars to be interpreted as an index\n",
      "  \n"
     ]
    },
    {
     "name": "stdout",
     "output_type": "stream",
     "text": [
      "8688 8688\n",
      "tn = 3864, fp = 497, fn = 362, tp = 3965\n",
      "y_pred: 0 = 4226 | 1 = 4462\n",
      "y_true: 0 = 4361 | 1 = 4327\n",
      "acc=0.9011|precision=0.8886|recall=0.9163|f1=0.9023|auc=0.9636|aupr=0.9615\n",
      "tn = 893, fp = 176, fn = 161, tp = 942\n",
      "y_pred: 0 = 1054 | 1 = 1118\n",
      "y_true: 0 = 1069 | 1 = 1103\n",
      "acc=0.8448|precision=0.8426|recall=0.8540|f1=0.8483|auc=0.9272|aupr=0.9275\n",
      "----------------------- Fold =  2\n"
     ]
    },
    {
     "name": "stderr",
     "output_type": "stream",
     "text": [
      "/home/chujunyi/anaconda3/envs/python36/lib/python3.6/site-packages/ipykernel_launcher.py:2: DeprecationWarning: In future, it will be an error for 'np.bool_' scalars to be interpreted as an index\n",
      "  \n"
     ]
    },
    {
     "name": "stdout",
     "output_type": "stream",
     "text": [
      "8688 8688\n",
      "tn = 3787, fp = 531, fn = 357, tp = 4013\n",
      "y_pred: 0 = 4144 | 1 = 4544\n",
      "y_true: 0 = 4318 | 1 = 4370\n",
      "acc=0.8978|precision=0.8831|recall=0.9183|f1=0.9004|auc=0.9617|aupr=0.9596\n",
      "tn = 927, fp = 185, fn = 132, tp = 928\n",
      "y_pred: 0 = 1059 | 1 = 1113\n",
      "y_true: 0 = 1112 | 1 = 1060\n",
      "acc=0.8541|precision=0.8338|recall=0.8755|f1=0.8541|auc=0.9302|aupr=0.9249\n",
      "----------------------- Fold =  3\n"
     ]
    },
    {
     "name": "stderr",
     "output_type": "stream",
     "text": [
      "/home/chujunyi/anaconda3/envs/python36/lib/python3.6/site-packages/ipykernel_launcher.py:2: DeprecationWarning: In future, it will be an error for 'np.bool_' scalars to be interpreted as an index\n",
      "  \n"
     ]
    },
    {
     "name": "stdout",
     "output_type": "stream",
     "text": [
      "8688 8688\n",
      "tn = 3830, fp = 499, fn = 371, tp = 3988\n",
      "y_pred: 0 = 4201 | 1 = 4487\n",
      "y_true: 0 = 4329 | 1 = 4359\n",
      "acc=0.8999|precision=0.8888|recall=0.9149|f1=0.9017|auc=0.9639|aupr=0.9624\n",
      "tn = 927, fp = 174, fn = 157, tp = 914\n",
      "y_pred: 0 = 1084 | 1 = 1088\n",
      "y_true: 0 = 1101 | 1 = 1071\n",
      "acc=0.8476|precision=0.8401|recall=0.8534|f1=0.8467|auc=0.9235|aupr=0.9197\n",
      "----------------------- Fold =  4\n"
     ]
    },
    {
     "name": "stderr",
     "output_type": "stream",
     "text": [
      "/home/chujunyi/anaconda3/envs/python36/lib/python3.6/site-packages/ipykernel_launcher.py:2: DeprecationWarning: In future, it will be an error for 'np.bool_' scalars to be interpreted as an index\n",
      "  \n"
     ]
    },
    {
     "name": "stdout",
     "output_type": "stream",
     "text": [
      "8688 8688\n",
      "tn = 3855, fp = 500, fn = 391, tp = 3942\n",
      "y_pred: 0 = 4246 | 1 = 4442\n",
      "y_true: 0 = 4355 | 1 = 4333\n",
      "acc=0.8974|precision=0.8874|recall=0.9098|f1=0.8985|auc=0.9645|aupr=0.9628\n",
      "tn = 898, fp = 177, fn = 156, tp = 941\n",
      "y_pred: 0 = 1054 | 1 = 1118\n",
      "y_true: 0 = 1075 | 1 = 1097\n",
      "acc=0.8467|precision=0.8417|recall=0.8578|f1=0.8497|auc=0.9208|aupr=0.9173\n",
      "========== isbalance = True | task = Tm\n",
      "-------Fold  0\n",
      "# miRNA: Train = 396 | Test = 99\n",
      "# Pairs: Train = 8849 | Test = 2011\n",
      "-------Fold  1\n",
      "# miRNA: Train = 396 | Test = 99\n",
      "# Pairs: Train = 8757 | Test = 2103\n",
      "-------Fold  2\n",
      "# miRNA: Train = 396 | Test = 99\n",
      "# Pairs: Train = 8678 | Test = 2182\n",
      "-------Fold  3\n",
      "# miRNA: Train = 396 | Test = 99\n",
      "# Pairs: Train = 8835 | Test = 2025\n",
      "-------Fold  4\n",
      "# miRNA: Train = 396 | Test = 99\n",
      "# Pairs: Train = 8321 | Test = 2539\n",
      "----------------------- Fold =  0\n"
     ]
    },
    {
     "name": "stderr",
     "output_type": "stream",
     "text": [
      "/home/chujunyi/anaconda3/envs/python36/lib/python3.6/site-packages/ipykernel_launcher.py:2: DeprecationWarning: In future, it will be an error for 'np.bool_' scalars to be interpreted as an index\n",
      "  \n"
     ]
    },
    {
     "name": "stdout",
     "output_type": "stream",
     "text": [
      "8849 8849\n",
      "tn = 3797, fp = 556, fn = 385, tp = 4111\n",
      "y_pred: 0 = 4182 | 1 = 4667\n",
      "y_true: 0 = 4353 | 1 = 4496\n",
      "acc=0.8937|precision=0.8809|recall=0.9144|f1=0.8973|auc=0.9600|aupr=0.9588\n",
      "tn = 927, fp = 150, fn = 124, tp = 810\n",
      "y_pred: 0 = 1051 | 1 = 960\n",
      "y_true: 0 = 1077 | 1 = 934\n",
      "acc=0.8637|precision=0.8438|recall=0.8672|f1=0.8553|auc=0.9423|aupr=0.9350\n",
      "----------------------- Fold =  1\n"
     ]
    },
    {
     "name": "stderr",
     "output_type": "stream",
     "text": [
      "/home/chujunyi/anaconda3/envs/python36/lib/python3.6/site-packages/ipykernel_launcher.py:2: DeprecationWarning: In future, it will be an error for 'np.bool_' scalars to be interpreted as an index\n",
      "  \n"
     ]
    },
    {
     "name": "stdout",
     "output_type": "stream",
     "text": [
      "8757 8757\n",
      "tn = 3817, fp = 530, fn = 371, tp = 4039\n",
      "y_pred: 0 = 4188 | 1 = 4569\n",
      "y_true: 0 = 4347 | 1 = 4410\n",
      "acc=0.8971|precision=0.8840|recall=0.9159|f1=0.8997|auc=0.9628|aupr=0.9605\n",
      "tn = 897, fp = 186, fn = 168, tp = 852\n",
      "y_pred: 0 = 1065 | 1 = 1038\n",
      "y_true: 0 = 1083 | 1 = 1020\n",
      "acc=0.8317|precision=0.8208|recall=0.8353|f1=0.8280|auc=0.9154|aupr=0.8939\n",
      "----------------------- Fold =  2\n"
     ]
    },
    {
     "name": "stderr",
     "output_type": "stream",
     "text": [
      "/home/chujunyi/anaconda3/envs/python36/lib/python3.6/site-packages/ipykernel_launcher.py:2: DeprecationWarning: In future, it will be an error for 'np.bool_' scalars to be interpreted as an index\n",
      "  \n"
     ]
    },
    {
     "name": "stdout",
     "output_type": "stream",
     "text": [
      "8678 8678\n",
      "tn = 3815, fp = 548, fn = 408, tp = 3907\n",
      "y_pred: 0 = 4223 | 1 = 4455\n",
      "y_true: 0 = 4363 | 1 = 4315\n",
      "acc=0.8898|precision=0.8770|recall=0.9054|f1=0.8910|auc=0.9592|aupr=0.9565\n",
      "tn = 891, fp = 176, fn = 121, tp = 994\n",
      "y_pred: 0 = 1012 | 1 = 1170\n",
      "y_true: 0 = 1067 | 1 = 1115\n",
      "acc=0.8639|precision=0.8496|recall=0.8915|f1=0.8700|auc=0.9386|aupr=0.9272\n",
      "----------------------- Fold =  3\n"
     ]
    },
    {
     "name": "stderr",
     "output_type": "stream",
     "text": [
      "/home/chujunyi/anaconda3/envs/python36/lib/python3.6/site-packages/ipykernel_launcher.py:2: DeprecationWarning: In future, it will be an error for 'np.bool_' scalars to be interpreted as an index\n",
      "  \n"
     ]
    },
    {
     "name": "stdout",
     "output_type": "stream",
     "text": [
      "8835 8835\n",
      "tn = 3798, fp = 533, fn = 351, tp = 4153\n",
      "y_pred: 0 = 4149 | 1 = 4686\n",
      "y_true: 0 = 4331 | 1 = 4504\n",
      "acc=0.8999|precision=0.8863|recall=0.9221|f1=0.9038|auc=0.9629|aupr=0.9617\n",
      "tn = 918, fp = 181, fn = 134, tp = 792\n",
      "y_pred: 0 = 1052 | 1 = 973\n",
      "y_true: 0 = 1099 | 1 = 926\n",
      "acc=0.8444|precision=0.8140|recall=0.8553|f1=0.8341|auc=0.9248|aupr=0.9160\n",
      "----------------------- Fold =  4\n"
     ]
    },
    {
     "name": "stderr",
     "output_type": "stream",
     "text": [
      "/home/chujunyi/anaconda3/envs/python36/lib/python3.6/site-packages/ipykernel_launcher.py:2: DeprecationWarning: In future, it will be an error for 'np.bool_' scalars to be interpreted as an index\n",
      "  \n"
     ]
    },
    {
     "name": "stdout",
     "output_type": "stream",
     "text": [
      "8321 8321\n",
      "tn = 3889, fp = 437, fn = 375, tp = 3620\n",
      "y_pred: 0 = 4264 | 1 = 4057\n",
      "y_true: 0 = 4326 | 1 = 3995\n",
      "acc=0.9024|precision=0.8923|recall=0.9061|f1=0.8992|auc=0.9672|aupr=0.9640\n",
      "tn = 875, fp = 229, fn = 189, tp = 1246\n",
      "y_pred: 0 = 1064 | 1 = 1475\n",
      "y_true: 0 = 1104 | 1 = 1435\n",
      "acc=0.8354|precision=0.8447|recall=0.8683|f1=0.8564|auc=0.9087|aupr=0.9215\n",
      "========== isbalance = True | task = Td\n",
      "-------Fold  0\n",
      "# disease: Train = 307 | Test = 76\n",
      "# Pairs: Train = 8594 | Test = 2266\n",
      "-------Fold  1\n",
      "# disease: Train = 307 | Test = 76\n",
      "# Pairs: Train = 8293 | Test = 2567\n",
      "-------Fold  2\n",
      "# disease: Train = 307 | Test = 76\n",
      "# Pairs: Train = 8396 | Test = 2464\n",
      "-------Fold  3\n",
      "# disease: Train = 307 | Test = 76\n",
      "# Pairs: Train = 9228 | Test = 1632\n",
      "-------Fold  4\n",
      "# disease: Train = 304 | Test = 79\n",
      "# Pairs: Train = 8929 | Test = 1931\n",
      "----------------------- Fold =  0\n"
     ]
    },
    {
     "name": "stderr",
     "output_type": "stream",
     "text": [
      "/home/chujunyi/anaconda3/envs/python36/lib/python3.6/site-packages/ipykernel_launcher.py:2: DeprecationWarning: In future, it will be an error for 'np.bool_' scalars to be interpreted as an index\n",
      "  \n"
     ]
    },
    {
     "name": "stdout",
     "output_type": "stream",
     "text": [
      "8594 8594\n",
      "tn = 3846, fp = 508, fn = 409, tp = 3831\n",
      "y_pred: 0 = 4255 | 1 = 4339\n",
      "y_true: 0 = 4354 | 1 = 4240\n",
      "acc=0.8933|precision=0.8829|recall=0.9035|f1=0.8931|auc=0.9622|aupr=0.9594\n",
      "tn = 890, fp = 186, fn = 156, tp = 1034\n",
      "y_pred: 0 = 1046 | 1 = 1220\n",
      "y_true: 0 = 1076 | 1 = 1190\n",
      "acc=0.8491|precision=0.8475|recall=0.8689|f1=0.8581|auc=0.9253|aupr=0.9288\n",
      "----------------------- Fold =  1\n"
     ]
    },
    {
     "name": "stderr",
     "output_type": "stream",
     "text": [
      "/home/chujunyi/anaconda3/envs/python36/lib/python3.6/site-packages/ipykernel_launcher.py:2: DeprecationWarning: In future, it will be an error for 'np.bool_' scalars to be interpreted as an index\n",
      "  \n"
     ]
    },
    {
     "name": "stdout",
     "output_type": "stream",
     "text": [
      "8293 8293\n",
      "tn = 3871, fp = 475, fn = 369, tp = 3578\n",
      "y_pred: 0 = 4240 | 1 = 4053\n",
      "y_true: 0 = 4346 | 1 = 3947\n",
      "acc=0.8982|precision=0.8828|recall=0.9065|f1=0.8945|auc=0.9630|aupr=0.9575\n",
      "tn = 873, fp = 211, fn = 198, tp = 1285\n",
      "y_pred: 0 = 1071 | 1 = 1496\n",
      "y_true: 0 = 1084 | 1 = 1483\n",
      "acc=0.8407|precision=0.8590|recall=0.8665|f1=0.8627|auc=0.9115|aupr=0.9269\n",
      "----------------------- Fold =  2\n"
     ]
    },
    {
     "name": "stderr",
     "output_type": "stream",
     "text": [
      "/home/chujunyi/anaconda3/envs/python36/lib/python3.6/site-packages/ipykernel_launcher.py:2: DeprecationWarning: In future, it will be an error for 'np.bool_' scalars to be interpreted as an index\n",
      "  \n"
     ]
    },
    {
     "name": "stdout",
     "output_type": "stream",
     "text": [
      "8396 8396\n",
      "tn = 3877, fp = 480, fn = 396, tp = 3643\n",
      "y_pred: 0 = 4273 | 1 = 4123\n",
      "y_true: 0 = 4357 | 1 = 4039\n",
      "acc=0.8957|precision=0.8836|recall=0.9020|f1=0.8927|auc=0.9629|aupr=0.9577\n",
      "tn = 890, fp = 183, fn = 219, tp = 1172\n",
      "y_pred: 0 = 1109 | 1 = 1355\n",
      "y_true: 0 = 1073 | 1 = 1391\n",
      "acc=0.8369|precision=0.8649|recall=0.8426|f1=0.8536|auc=0.9088|aupr=0.9261\n",
      "----------------------- Fold =  3\n"
     ]
    },
    {
     "name": "stderr",
     "output_type": "stream",
     "text": [
      "/home/chujunyi/anaconda3/envs/python36/lib/python3.6/site-packages/ipykernel_launcher.py:2: DeprecationWarning: In future, it will be an error for 'np.bool_' scalars to be interpreted as an index\n",
      "  \n"
     ]
    },
    {
     "name": "stdout",
     "output_type": "stream",
     "text": [
      "9228 9228\n",
      "tn = 3819, fp = 544, fn = 371, tp = 4494\n",
      "y_pred: 0 = 4190 | 1 = 5038\n",
      "y_true: 0 = 4363 | 1 = 4865\n",
      "acc=0.9008|precision=0.8920|recall=0.9237|f1=0.9076|auc=0.9625|aupr=0.9640\n",
      "tn = 957, fp = 110, fn = 168, tp = 397\n",
      "y_pred: 0 = 1125 | 1 = 507\n",
      "y_true: 0 = 1067 | 1 = 565\n",
      "acc=0.8297|precision=0.7830|recall=0.7027|f1=0.7407|auc=0.8999|aupr=0.8245\n",
      "----------------------- Fold =  4\n",
      "8929 8929\n",
      "tn = 3768, fp = 532, fn = 363, tp = 4266\n",
      "y_pred: 0 = 4131 | 1 = 4798\n",
      "y_true: 0 = 4300 | 1 = 4629\n",
      "acc=0.8998|precision=0.8891|recall=0.9216|f1=0.9051|auc=0.9645|aupr=0.9652\n",
      "tn = 971, fp = 159, fn = 203, tp = 598\n",
      "y_pred: 0 = 1174 | 1 = 757\n",
      "y_true: 0 = 1130 | 1 = 801\n",
      "acc=0.8125|precision=0.7900|recall=0.7466|f1=0.7677|auc=0.8917|aupr=0.8497\n"
     ]
    },
    {
     "name": "stderr",
     "output_type": "stream",
     "text": [
      "/home/chujunyi/anaconda3/envs/python36/lib/python3.6/site-packages/ipykernel_launcher.py:2: DeprecationWarning: In future, it will be an error for 'np.bool_' scalars to be interpreted as an index\n",
      "  \n"
     ]
    }
   ],
   "source": [
    "for isbalance in [False, True]:\n",
    "    \n",
    "    mirna_ids, disease_ids, mirna_test_num, disease_test_num, samples = obtain_data(dtp, SD, SM, isbalance)\n",
    "    for task in ['Tp', 'Tm', 'Td']:\n",
    "        \n",
    "        print('========== isbalance = {} | task = {}'.format(isbalance, task))\n",
    "        \n",
    "        if task == 'Tp':\n",
    "            train_index_all, test_index_all, train_id_all, test_id_all = generate_task_Tp_train_test_idx(samples)\n",
    "            \n",
    "        elif task == 'Tm':\n",
    "            item = 'miRNA'\n",
    "            ids = mirna_ids\n",
    "            train_index_all, test_index_all, train_id_all, test_id_all = generate_task_Tm_Td_train_test_idx(item, ids, samples)\n",
    "\n",
    "        elif task == 'Td':\n",
    "            item = 'disease'\n",
    "            ids = disease_ids\n",
    "            train_index_all, test_index_all, train_id_all, test_id_all = generate_task_Tm_Td_train_test_idx(item, ids, samples)\n",
    "\n",
    "        y_train_pred, y_test_pred, y_train_prob, y_test_prob, performances_train, performances_test = run(train_index_all, test_index_all, samples)\n",
    "\n"
   ]
  }
 ],
 "metadata": {
  "anaconda-cloud": {},
  "kernelspec": {
   "display_name": "python36",
   "language": "python",
   "name": "python36"
  },
  "language_info": {
   "codemirror_mode": {
    "name": "ipython",
    "version": 3
   },
   "file_extension": ".py",
   "mimetype": "text/x-python",
   "name": "python",
   "nbconvert_exporter": "python",
   "pygments_lexer": "ipython3",
   "version": "3.6.0"
  }
 },
 "nbformat": 4,
 "nbformat_minor": 1
}
