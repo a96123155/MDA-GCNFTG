{
 "cells": [
  {
   "cell_type": "code",
   "execution_count": 1,
   "metadata": {
    "scrolled": true
   },
   "outputs": [
    {
     "name": "stderr",
     "output_type": "stream",
     "text": [
      "/home/chujunyi/anaconda3/envs/tensorflow_1.8/lib/python3.6/site-packages/tensorflow/python/framework/dtypes.py:516: FutureWarning: Passing (type, 1) or '1type' as a synonym of type is deprecated; in a future version of numpy, it will be understood as (type, (1,)) / '(1,)type'.\n",
      "  _np_qint8 = np.dtype([(\"qint8\", np.int8, 1)])\n",
      "/home/chujunyi/anaconda3/envs/tensorflow_1.8/lib/python3.6/site-packages/tensorflow/python/framework/dtypes.py:517: FutureWarning: Passing (type, 1) or '1type' as a synonym of type is deprecated; in a future version of numpy, it will be understood as (type, (1,)) / '(1,)type'.\n",
      "  _np_quint8 = np.dtype([(\"quint8\", np.uint8, 1)])\n",
      "/home/chujunyi/anaconda3/envs/tensorflow_1.8/lib/python3.6/site-packages/tensorflow/python/framework/dtypes.py:518: FutureWarning: Passing (type, 1) or '1type' as a synonym of type is deprecated; in a future version of numpy, it will be understood as (type, (1,)) / '(1,)type'.\n",
      "  _np_qint16 = np.dtype([(\"qint16\", np.int16, 1)])\n",
      "/home/chujunyi/anaconda3/envs/tensorflow_1.8/lib/python3.6/site-packages/tensorflow/python/framework/dtypes.py:519: FutureWarning: Passing (type, 1) or '1type' as a synonym of type is deprecated; in a future version of numpy, it will be understood as (type, (1,)) / '(1,)type'.\n",
      "  _np_quint16 = np.dtype([(\"quint16\", np.uint16, 1)])\n",
      "/home/chujunyi/anaconda3/envs/tensorflow_1.8/lib/python3.6/site-packages/tensorflow/python/framework/dtypes.py:520: FutureWarning: Passing (type, 1) or '1type' as a synonym of type is deprecated; in a future version of numpy, it will be understood as (type, (1,)) / '(1,)type'.\n",
      "  _np_qint32 = np.dtype([(\"qint32\", np.int32, 1)])\n",
      "/home/chujunyi/anaconda3/envs/tensorflow_1.8/lib/python3.6/site-packages/tensorflow/python/framework/dtypes.py:525: FutureWarning: Passing (type, 1) or '1type' as a synonym of type is deprecated; in a future version of numpy, it will be understood as (type, (1,)) / '(1,)type'.\n",
      "  np_resource = np.dtype([(\"resource\", np.ubyte, 1)])\n"
     ]
    },
    {
     "name": "stdout",
     "output_type": "stream",
     "text": [
      "WARNING:tensorflow:From /home/chujunyi/anaconda3/envs/tensorflow_1.8/lib/python3.6/site-packages/tensorflow/python/compat/v2_compat.py:61: disable_resource_variables (from tensorflow.python.ops.variable_scope) is deprecated and will be removed in a future version.\n",
      "Instructions for updating:\n",
      "non-resource variables are not supported in the long term\n"
     ]
    },
    {
     "name": "stderr",
     "output_type": "stream",
     "text": [
      "/home/chujunyi/anaconda3/envs/tensorflow_1.8/lib/python3.6/site-packages/tensorboard/compat/tensorflow_stub/dtypes.py:541: FutureWarning: Passing (type, 1) or '1type' as a synonym of type is deprecated; in a future version of numpy, it will be understood as (type, (1,)) / '(1,)type'.\n",
      "  _np_qint8 = np.dtype([(\"qint8\", np.int8, 1)])\n",
      "/home/chujunyi/anaconda3/envs/tensorflow_1.8/lib/python3.6/site-packages/tensorboard/compat/tensorflow_stub/dtypes.py:542: FutureWarning: Passing (type, 1) or '1type' as a synonym of type is deprecated; in a future version of numpy, it will be understood as (type, (1,)) / '(1,)type'.\n",
      "  _np_quint8 = np.dtype([(\"quint8\", np.uint8, 1)])\n",
      "/home/chujunyi/anaconda3/envs/tensorflow_1.8/lib/python3.6/site-packages/tensorboard/compat/tensorflow_stub/dtypes.py:543: FutureWarning: Passing (type, 1) or '1type' as a synonym of type is deprecated; in a future version of numpy, it will be understood as (type, (1,)) / '(1,)type'.\n",
      "  _np_qint16 = np.dtype([(\"qint16\", np.int16, 1)])\n",
      "/home/chujunyi/anaconda3/envs/tensorflow_1.8/lib/python3.6/site-packages/tensorboard/compat/tensorflow_stub/dtypes.py:544: FutureWarning: Passing (type, 1) or '1type' as a synonym of type is deprecated; in a future version of numpy, it will be understood as (type, (1,)) / '(1,)type'.\n",
      "  _np_quint16 = np.dtype([(\"quint16\", np.uint16, 1)])\n",
      "/home/chujunyi/anaconda3/envs/tensorflow_1.8/lib/python3.6/site-packages/tensorboard/compat/tensorflow_stub/dtypes.py:545: FutureWarning: Passing (type, 1) or '1type' as a synonym of type is deprecated; in a future version of numpy, it will be understood as (type, (1,)) / '(1,)type'.\n",
      "  _np_qint32 = np.dtype([(\"qint32\", np.int32, 1)])\n",
      "/home/chujunyi/anaconda3/envs/tensorflow_1.8/lib/python3.6/site-packages/tensorboard/compat/tensorflow_stub/dtypes.py:550: FutureWarning: Passing (type, 1) or '1type' as a synonym of type is deprecated; in a future version of numpy, it will be understood as (type, (1,)) / '(1,)type'.\n",
      "  np_resource = np.dtype([(\"resource\", np.ubyte, 1)])\n"
     ]
    }
   ],
   "source": [
    "import numpy\n",
    "import time\n",
    "from sklearn.model_selection import cross_validate\n",
    "from sklearn.model_selection import cross_val_score\n",
    "import numpy as np\n",
    "from sklearn.model_selection import LeaveOneOut\n",
    "import math\n",
    "import numpy.linalg as LA\n",
    "from sklearn.cluster import KMeans\n",
    "import random\n",
    "from sklearn import tree\n",
    "from sklearn.ensemble import GradientBoostingClassifier\n",
    "from sklearn import model_selection,metrics\n",
    "from sklearn.model_selection import GridSearchCV\n",
    "import matplotlib.pylab as plt\n",
    "import matplotlib.pyplot as plt\n",
    "from sklearn.metrics import roc_curve, auc\n",
    "from sklearn.model_selection import StratifiedKFold\n",
    "from scipy import interp\n",
    "from sklearn.preprocessing import OneHotEncoder\n",
    "from sklearn.linear_model import LogisticRegression\n",
    "random.sample\n",
    "import pandas as pd\n",
    "from sklearn.model_selection import KFold\n",
    "from tqdm import tqdm\n",
    "from sklearn.metrics import confusion_matrix\n",
    "from sklearn.metrics import roc_auc_score, auc\n",
    "from sklearn.metrics import precision_recall_fscore_support\n",
    "from sklearn.metrics import precision_recall_curve\n",
    "from sklearn.metrics import classification_report\n",
    "from collections import Counter\n",
    "\n",
    "import time\n",
    "import numpy as np\n",
    "import pandas as pd\n",
    "from sklearn.metrics import roc_auc_score, roc_curve, auc\n",
    "from sklearn.metrics import average_precision_score, precision_recall_curve\n",
    "from sklearn.model_selection import train_test_split,StratifiedKFold\n",
    "import matplotlib.pyplot as plt\n",
    "from utils import *\n",
    "from tflearn.activations import relu\n",
    "from optparse import OptionParser\n",
    "from scipy import interp\n",
    "from tqdm import trange"
   ]
  },
  {
   "cell_type": "code",
   "execution_count": 2,
   "metadata": {
    "collapsed": true
   },
   "outputs": [],
   "source": [
    "def sample(all_associations, random_seed):\n",
    "       \n",
    "    known_associations = all_associations.loc[all_associations['label'] == 1]\n",
    "    unknown_associations = all_associations.loc[all_associations['label'] == 0]\n",
    "    random_negative = unknown_associations.sample(n = known_associations.shape[0], random_state = random_seed, axis=0)\n",
    "\n",
    "    sample_df = known_associations.append(random_negative)\n",
    "    sample_df.reset_index(drop=True, inplace=True)\n",
    "\n",
    "    return sample_df\n",
    "\n",
    "def obtain_data(dtp, isbalance):\n",
    "    \n",
    "    if isbalance:\n",
    "        dtp = sample(dtp, random_seed = 1234)\n",
    "        \n",
    "    mirna_ids = list(set(dtp['miRNA']))\n",
    "    disease_ids = list(set(dtp['disease']))\n",
    "    random.shuffle(mirna_ids)\n",
    "    random.shuffle(disease_ids)\n",
    "    print('# miRNA = {} | Disease = {}'.format(len(mirna_ids), len(disease_ids)))\n",
    "\n",
    "    mirna_test_num = int(len(mirna_ids) / 5)\n",
    "    disease_test_num = int(len(disease_ids) / 5)\n",
    "    print('# Test: miRNA = {} | Disease = {}'.format(mirna_test_num, disease_test_num))    \n",
    "    \n",
    "    return dtp, mirna_ids, disease_ids, mirna_test_num, disease_test_num\n",
    "\n",
    "def generate_task_Tp_train_test_idx(dtp):\n",
    "    kf = KFold(n_splits = 5, shuffle = True, random_state = 1234)\n",
    "\n",
    "    train_index_all, test_index_all, n = [], [], 0\n",
    "    train_id_all, test_id_all = [], []\n",
    "    fold = 0\n",
    "    for train_idx, test_idx in tqdm(kf.split(dtp.iloc[:, 3:])): #train_index与test_index为下标\n",
    "        print('-------Fold ', fold)\n",
    "        train_index_all.append(train_idx) \n",
    "        test_index_all.append(test_idx)\n",
    "\n",
    "        train_id_all.append(np.array(dtp.iloc[train_idx][['miRNA', 'disease']]))\n",
    "        test_id_all.append(np.array(dtp.iloc[test_idx][['miRNA', 'disease']]))\n",
    "\n",
    "        print('# Pairs: Train = {} | Test = {}'.format(len(train_idx), len(test_idx)))\n",
    "        fold += 1\n",
    "    return train_index_all, test_index_all, train_id_all, test_id_all\n",
    "\n",
    "def generate_task_Tm_Td_train_test_idx(item, ids, dtp):\n",
    "    \n",
    "    test_num = int(len(ids) / 5)\n",
    "    \n",
    "    train_index_all, test_index_all = [], []\n",
    "    train_id_all, test_id_all = [], []\n",
    "    \n",
    "    for fold in range(5):\n",
    "        print('-------Fold ', fold)\n",
    "        if fold != 4:\n",
    "            test_ids = ids[fold * test_num : (fold + 1) * test_num]\n",
    "        else:\n",
    "            test_ids = ids[fold * test_num :]\n",
    "\n",
    "        train_ids = list(set(ids) ^ set(test_ids))\n",
    "        print('# {}: Train = {} | Test = {}'.format(item, len(train_ids), len(test_ids)))\n",
    "\n",
    "        test_idx = dtp[dtp[item].isin(test_ids)].index.tolist()\n",
    "        train_idx = dtp[dtp[item].isin(train_ids)].index.tolist()\n",
    "        random.shuffle(test_idx)\n",
    "        random.shuffle(train_idx)\n",
    "        print('# Pairs: Train = {} | Test = {}'.format(len(train_idx), len(test_idx)))\n",
    "        assert len(train_idx) + len(test_idx) == len(dtp)\n",
    "\n",
    "        train_index_all.append(train_idx) \n",
    "        test_index_all.append(test_idx)\n",
    "        \n",
    "        train_id_all.append(np.array(dtp.iloc[train_idx][['miRNA', 'disease']]))\n",
    "        test_id_all.append(np.array(dtp.iloc[test_idx][['miRNA', 'disease']]))\n",
    "        \n",
    "    return train_index_all, test_index_all, train_id_all, test_id_all\n"
   ]
  },
  {
   "cell_type": "markdown",
   "metadata": {},
   "source": [
    "# 定义任务"
   ]
  },
  {
   "cell_type": "code",
   "execution_count": 3,
   "metadata": {},
   "outputs": [],
   "source": [
    "parser = OptionParser()\n",
    "parser.add_option(\"-d\", \"--d\", default=1024, help=\"The embedding dimension d\")\n",
    "parser.add_option(\"-n\", \"--n\", default=1, help=\"global norm to be clipped\")\n",
    "parser.add_option(\"-k\", \"--k\", default=512, help=\"The dimension of project matrices k\")\n",
    "parser.add_option(\"-t\", \"--t\", default=\"o\", help=\"Test scenario\")\n",
    "(opts, args) = parser.parse_args(args = [])\n",
    "\n",
    "def loadtxt(path):\n",
    "    data = np.loadtxt(path,dtype=str)\n",
    "\n",
    "    DATA = []\n",
    "    for i in data:\n",
    "        DATA.append(i.split(','))\n",
    "\n",
    "    return np.array(DATA,dtype=float)\n",
    "\n",
    "def check_symmetric(a, tol=1e-8):\n",
    "    return np.allclose(a, a.T, atol=tol)\n",
    "\n",
    "def row_normalize(a_matrix, substract_self_loop):\n",
    "    if substract_self_loop == True:\n",
    "        np.fill_diagonal(a_matrix,0)\n",
    "    a_matrix = a_matrix.astype(float)\n",
    "    row_sums = a_matrix.sum(axis=1)+1e-12\n",
    "    new_matrix = a_matrix / row_sums[:, np.newaxis]\n",
    "    new_matrix[np.isnan(new_matrix) | np.isinf(new_matrix)] = 0.0\n",
    "    return new_matrix\n",
    "\n",
    "# load network\n",
    "network_path = '../data/'\n",
    "save_path = '../result/'\n",
    "mirna_name = np.loadtxt(network_path + 'miRNA-name.txt', dtype=str)\n",
    "disease_similarity_matrix = loadtxt(network_path + 'DSmat.txt')\n",
    "mirna_similarity_matrix = loadtxt(network_path + 'RSmat.txt')\n",
    "mirna_disease_associations = loadtxt(network_path + 'RDmat.txt')\n",
    "\n",
    "DMA = mirna_disease_associations.T\n",
    "DS = row_normalize(disease_similarity_matrix, True)\n",
    "MS = row_normalize(mirna_similarity_matrix, True)\n",
    "\n",
    "[num_disease, num_mirna] = DMA.shape\n",
    "dim_disease = int(opts.d)\n",
    "dim_mirna = int(opts.d)\n",
    "dim_pred = int(opts.k)\n",
    "dim_pass = int(opts.d)"
   ]
  },
  {
   "cell_type": "code",
   "execution_count": null,
   "metadata": {},
   "outputs": [],
   "source": []
  },
  {
   "cell_type": "markdown",
   "metadata": {},
   "source": [
    "# 定义结束"
   ]
  },
  {
   "cell_type": "code",
   "execution_count": 4,
   "metadata": {
    "scrolled": true
   },
   "outputs": [
    {
     "name": "stdout",
     "output_type": "stream",
     "text": [
      "WARNING:tensorflow:From /home/chujunyi/4_GNN/MDA-major_revise/DMA/src/utils.py:8: The name tf.truncated_normal is deprecated. Please use tf.random.truncated_normal instead.\n",
      "\n",
      "WARNING:tensorflow:\n",
      "The TensorFlow contrib module will not be included in TensorFlow 2.0.\n",
      "For more information, please see:\n",
      "  * https://github.com/tensorflow/community/blob/master/rfcs/20180907-contrib-sunset.md\n",
      "  * https://github.com/tensorflow/addons\n",
      "  * https://github.com/tensorflow/io (for I/O related ops)\n",
      "If you depend on functionality not listed there, please file an issue.\n",
      "\n",
      "WARNING:tensorflow:From /home/chujunyi/4_GNN/MDA-major_revise/DMA/src/utils.py:18: The name tf.add_to_collection is deprecated. Please use tf.compat.v1.add_to_collection instead.\n",
      "\n",
      "WARNING:tensorflow:From <ipython-input-4-8e35d8cfb3e0>:33: calling l2_normalize (from tensorflow.python.ops.nn_impl) with dim is deprecated and will be removed in a future version.\n",
      "Instructions for updating:\n",
      "dim is deprecated, use axis instead\n",
      "WARNING:tensorflow:From /home/chujunyi/anaconda3/envs/tensorflow_1.8/lib/python3.6/site-packages/tensorflow/python/ops/math_grad.py:1250: add_dispatch_support.<locals>.wrapper (from tensorflow.python.ops.array_ops) is deprecated and will be removed in a future version.\n",
      "Instructions for updating:\n",
      "Use tf.where in 2.0, which has the same broadcast rule as np.where\n"
     ]
    }
   ],
   "source": [
    "class Model(object):\n",
    "    def __init__(self):\n",
    "        self._build_model()\n",
    "\n",
    "    def _build_model(self):\n",
    "        self.disease_disease = tf.placeholder(tf.float32, [num_disease, num_disease])\n",
    "        self.disease_disease_normalize = tf.placeholder(tf.float32, [num_disease, num_disease])\n",
    "        self.mirna_mirna = tf.placeholder(tf.float32, [num_mirna, num_mirna])\n",
    "        self.mirna_mirna_normalize = tf.placeholder(tf.float32, [num_mirna, num_mirna])\n",
    "        self.mirna_disease = tf.placeholder(tf.float32, [num_mirna, num_disease])\n",
    "        self.mirna_disease_normalize = tf.placeholder(tf.float32, [num_mirna, num_disease])\n",
    "        self.disease_mirna = tf.placeholder(tf.float32, [num_disease, num_mirna])\n",
    "        self.disease_mirna_normalize = tf.placeholder(tf.float32, [num_disease, num_mirna])\n",
    "        self.disease_mirna_mask = tf.placeholder(tf.float32, [num_disease + num_mirna, num_disease + num_mirna])\n",
    "\n",
    "        self.A = tf.concat([tf.concat([self.disease_disease, self.disease_mirna], 1),\n",
    "                            tf.concat([self.mirna_disease, self.mirna_mirna], 1)], 0)\n",
    "\n",
    "        self.disease_embedding = weight_variable([num_disease, dim_disease])\n",
    "        self.mirna_embedding = weight_variable([num_mirna, dim_mirna])\n",
    "        tf.add_to_collection('l2_reg', tf.contrib.layers.l2_regularizer(1.0)(self.disease_embedding))\n",
    "        tf.add_to_collection('l2_reg', tf.contrib.layers.l2_regularizer(1.0)(self.mirna_embedding))\n",
    "\n",
    "        W0 = weight_variable([dim_pass + dim_disease, dim_disease])\n",
    "        b0 = bias_variable([dim_disease])\n",
    "        tf.add_to_collection('l2_reg', tf.contrib.layers.l2_regularizer(1.0)(W0))\n",
    "\n",
    "        disease_vector0 = tf.nn.l2_normalize(relu(tf.matmul(\n",
    "            tf.concat([tf.matmul(self.disease_mirna_normalize,\n",
    "                                 a_layer(self.mirna_embedding, dim_pass)) +\n",
    "                       tf.matmul(self.disease_disease_normalize,\n",
    "                                 a_layer(self.disease_embedding, dim_pass)),\n",
    "                       self.disease_embedding], axis=1), W0) + b0), dim=1)\n",
    "\n",
    "        mirna_vector0 = tf.nn.l2_normalize(relu(tf.matmul(\n",
    "            tf.concat([tf.matmul(self.mirna_mirna_normalize,\n",
    "                                 a_layer(self.mirna_embedding, dim_pass)) +\n",
    "                       tf.matmul(self.mirna_disease_normalize,\n",
    "                                 a_layer(self.disease_embedding, dim_pass)),\n",
    "                       self.mirna_embedding], axis=1), W0) + b0), dim=1)\n",
    "\n",
    "        self.disease_representation = disease_vector0\n",
    "        self.mirna_representation = mirna_vector0\n",
    "        self.features_matrix = tf.concat([self.disease_representation, self.mirna_representation], 0)\n",
    "        self.A_reconstruct = bi_layer(self.features_matrix, self.features_matrix, sym=True, dim_pred=dim_pred)\n",
    "\n",
    "        tmp = tf.multiply(self.disease_mirna_mask, (self.A_reconstruct - self.A))\n",
    "        self.A_reconstruct_loss = tf.reduce_sum(tf.multiply(tmp, tmp))\n",
    "        self.l2_loss = tf.add_n(tf.get_collection(\"l2_reg\"))\n",
    "        self.loss = self.A_reconstruct_loss + self.l2_loss\n",
    "\n",
    "\n",
    "graph = tf.get_default_graph()\n",
    "with graph.as_default():\n",
    "    model = Model()\n",
    "    learning_rate = tf.placeholder(tf.float32, [])\n",
    "    total_loss = model.loss\n",
    "\n",
    "    optimize = tf.train.AdamOptimizer(learning_rate)\n",
    "    gradients, variables = zip(*optimize.compute_gradients(total_loss))\n",
    "    gradients, _ = tf.clip_by_global_norm(gradients, int(opts.n))\n",
    "    optimizer = optimize.apply_gradients(zip(gradients, variables))\n",
    "\n",
    "    DR_pred = model.A_reconstruct[:num_disease, num_disease:]\n",
    "    RD_pred = model.A_reconstruct[num_disease:, :num_disease]\n",
    "    eval_pred = (DR_pred + tf.transpose(RD_pred, perm=[1,0])) / 2.0\n",
    "\n",
    "def train_and_evaluate(DMAtrain, DMAtest, DMAcandidate, graph, verbose=True, num_steps = 2000):\n",
    "    mask = np.zeros((num_disease,num_mirna))\n",
    "    disease_mirna = np.zeros((num_disease,num_mirna))\n",
    "    for ele in DMAtrain:\n",
    "        disease_mirna[ele[0],ele[1]] = ele[2]\n",
    "        mask[ele[0],ele[1]] = 1\n",
    "    mirna_disease = disease_mirna.T\n",
    "    disease_mirna_normalize = row_normalize(disease_mirna,False)\n",
    "    mirna_disease_normalize = row_normalize(mirna_disease,False)\n",
    "    mask = np.concatenate([np.concatenate([np.ones((num_disease, num_disease)), mask], axis=1),\n",
    "                           np.concatenate([mask.T, np.ones((num_mirna, num_mirna))], axis=1)], axis=0)\n",
    "\n",
    "\n",
    "    lr = 0.0005\n",
    "    scores = []\n",
    "    labels = []\n",
    "    min_loss = float('inf')\n",
    "    with tf.Session(graph=graph) as sess:\n",
    "        tf.initialize_all_variables().run()\n",
    "        for i in range(num_steps):\n",
    "            _, tloss, results = sess.run([optimizer,total_loss,eval_pred],\n",
    "                                        feed_dict={model.disease_mirna:disease_mirna, model.disease_mirna_normalize:disease_mirna_normalize,\n",
    "                                        model.mirna_disease:mirna_disease, model.mirna_disease_normalize:mirna_disease_normalize,\n",
    "                                        model.disease_disease:disease_similarity_matrix, model.mirna_mirna:mirna_similarity_matrix,\n",
    "                                        model.disease_disease_normalize:DS, model.mirna_mirna_normalize:MS,\n",
    "                                        model.disease_mirna_mask:mask, learning_rate: lr})\n",
    "            #every 20 steps of gradient descent, evaluate the performance, other choices of this number are possible\n",
    "            if i % 20 == 0 and verbose == True:\n",
    "                print('step',i,'total loss',tloss)\n",
    "\n",
    "                if tloss <= min_loss:\n",
    "                    min_loss = tloss\n",
    "                    best_results = results\n",
    "\n",
    "\n",
    "        for ele in DMAtest:\n",
    "            scores.append(best_results[ele[0], ele[1]])\n",
    "            labels.append(ele[2])\n",
    "        for ele in DMAcandidate:\n",
    "            scores.append(best_results[ele[0], ele[1]])\n",
    "            labels.append(ele[2])\n",
    "\n",
    "    return scores, labels\n",
    "\n",
    "def divide_known_unknown_associations(A, exception=None, special=None):\n",
    "    known = []\n",
    "    unknown = []\n",
    "    if special != None:\n",
    "        for j in range(A.shape[1]):\n",
    "            if A[special][j] == 1:\n",
    "                known.append([special,j,1])\n",
    "            else:\n",
    "                unknown.append([special,j,0])\n",
    "    else:\n",
    "        for i in range(A.shape[0]):\n",
    "            if i == exception: pass\n",
    "            for j in range(A.shape[1]):\n",
    "                if A[i][j] == 1:\n",
    "                    known.append([i,j,1])\n",
    "                else:\n",
    "                    unknown.append([i,j,0])\n",
    "\n",
    "    return np.array(known), np.array(unknown)\n",
    "\n",
    "def plot_roc_curve(fpr, tpr, auc):\n",
    "    plt.figure(1)\n",
    "    plt.plot([0, 1], [0, 1], linestyle='--', lw=2, color='r', label='Chance', alpha=.8)\n",
    "    plt.plot(fpr, tpr, color='b', label=r'Mean ROC (AUC = %0.6f)' % auc, lw=2, alpha=.8)\n",
    "    plt.xlim([-0.05, 1.05])\n",
    "    plt.ylim([-0.05, 1.05])\n",
    "    plt.xlabel('False Positive Rate')\n",
    "    plt.ylabel('True Positive Rate')\n",
    "    plt.title('Receiver Operating Characteristic Curve')\n",
    "    plt.legend(loc='best')\n",
    "    plt.show()\n",
    "\n",
    "def plot_pr_curve(recall, precision, aupr):\n",
    "    plt.figure(2)\n",
    "    plt.plot([0, 1], [1, 0], linestyle='--', lw=2, color='r', label='Chance', alpha=.8)\n",
    "    plt.plot(recall, precision, color='b', label=r'Mean PR (AUPR = %0.6f)' % aupr, lw=2, alpha=.8)\n",
    "    plt.xlim([-0.05, 1.05])\n",
    "    plt.ylim([-0.05, 1.05])\n",
    "    plt.xlabel('Recall')\n",
    "    plt.ylabel('Precision')\n",
    "    plt.title('Precision-Recall Curve')\n",
    "    plt.legend(loc='best')\n",
    "    plt.show()\n",
    "\n",
    "def FCV(epochs=2000):\n",
    "    known_associations, unknown_associations = divide_known_unknown_associations(DMA)\n",
    "\n",
    "    rs = np.random.randint(0, 1000, 1)[0]\n",
    "    kf = StratifiedKFold(n_splits=5, shuffle=True, random_state=rs)\n",
    "    kf = kf.split(known_associations[:,:-1], known_associations[:,-1])\n",
    "\n",
    "    tpr_fold = []\n",
    "    precision_fold = []\n",
    "    mean_fpr = np.linspace(0, 1, 100)\n",
    "    mean_recall = np.linspace(0, 1, 100)\n",
    "    DMAcandidate = unknown_associations\n",
    "    for train_idx, test_idx in kf:\n",
    "        DMAtrain = known_associations[train_idx]\n",
    "        DMAtest = known_associations[test_idx]\n",
    "        \"\"\"\n",
    "        # used to adjust the superparameter\n",
    "        DMAtrain, DMAvalid = train_test_split(DMAtrain, test_size=0.05, random_state=rs)\n",
    "        scores, labels = train_and_evaluate(DMAtrain=DMAtrain, DMAtest=DMAvalid, DMAcandidate=DMAcandidate, \n",
    "                                            graph=graph, num_steps=epochs)\n",
    "        \"\"\"\n",
    "        scores, labels = train_and_evaluate(DMAtrain=DMAtrain, DMAtest=DMAtest, DMAcandidate=DMAcandidate,\n",
    "                                            graph=graph, num_steps=epochs)\n",
    "\n",
    "        fpr, tpr, _ = roc_curve(labels, scores)\n",
    "        interp_tpr = interp(mean_fpr, fpr, tpr)\n",
    "        interp_tpr[0] = 0.0\n",
    "        tpr_fold.append(interp_tpr)\n",
    "\n",
    "        precision, recall, _ = precision_recall_curve(labels, scores)\n",
    "        rank_idx = np.argsort(recall)\n",
    "        recall = recall[rank_idx]\n",
    "        precision = precision[rank_idx]\n",
    "        interp_precision = interp(mean_recall, recall, precision)\n",
    "        interp_precision[0] = 1.0\n",
    "        precision_fold.append(interp_precision)\n",
    "\n",
    "    mean_tpr = np.mean(tpr_fold, axis=0)\n",
    "    mean_tpr[-1] = 1.0\n",
    "    mean_auc = auc(mean_fpr, mean_tpr)\n",
    "    #plot_roc_curve(mean_fpr, mean_tpr, mean_auc)\n",
    "    roc = pd.DataFrame({'fpr':mean_fpr,'tpr':mean_tpr})\n",
    "    roc.to_csv(save_path + '5fold_roc.csv', index=False)\n",
    "\n",
    "    mean_precision = np.mean(precision_fold, axis=0)\n",
    "    mean_precision[-1] = 0.0\n",
    "    mean_aupr = auc(mean_recall, mean_precision)\n",
    "    #plot_pr_curve(mean_recall, mean_precision, mean_aupr)\n",
    "    pr = pd.DataFrame({'recall': mean_recall, 'precision': mean_precision})\n",
    "    pr.to_csv(save_path + '5fold_pr.csv', index=False)\n",
    "\n",
    "    print('5-fold auc %0.6f', mean_auc, ', 5-fold aupr %0.6f', mean_aupr)\n",
    "\n",
    "\n",
    "def LODOCV(epochs=2000):\n",
    "    tpr_fold = []\n",
    "    precision_fold = []\n",
    "    mean_fpr = np.linspace(0, 1, 100)\n",
    "    mean_recall = np.linspace(0, 1, 100)\n",
    "    for i in range(num_disease):\n",
    "        print('current cv: %d, total cv: %d' % (i+1, num_disease))\n",
    "\n",
    "        DMAtrain, _ = divide_known_unknown_associations(DMA, exception=i)\n",
    "        DMAtest, DMAcandidate = divide_known_unknown_associations(DMA, special=i)\n",
    "        \"\"\"\n",
    "        # used to adjust the superparameter\n",
    "        rs = np.random.randint(0, 1000, 1)[0]\n",
    "        DMAtrain, DMAvalid = train_test_split(DMAtrain, test_size=0.05, random_state=rs)\n",
    "        scores, labels = train_and_evaluate(DMAtrain=DMAtrain, DMAtest=DMAvalid, DMAcandidate=DMAcandidate, \n",
    "                                            graph=graph, num_steps=epochs)\n",
    "        \"\"\"\n",
    "        scores, labels = train_and_evaluate(DMAtrain=DMAtrain, DMAtest=DMAtest, DMAcandidate=DMAcandidate,\n",
    "                                            graph=graph, num_steps=epochs)\n",
    "\n",
    "        fpr, tpr, _ = roc_curve(labels, scores)\n",
    "        interp_tpr = interp(mean_fpr, fpr, tpr)\n",
    "        interp_tpr[0] = 0.0\n",
    "        tpr_fold.append(interp_tpr)\n",
    "\n",
    "        precision, recall, _ = precision_recall_curve(labels, scores)\n",
    "        rank_idx = np.argsort(recall)\n",
    "        recall = recall[rank_idx]\n",
    "        precision = precision[rank_idx]\n",
    "        interp_precision = interp(mean_recall, recall, precision)\n",
    "        interp_precision[0] = 1.0\n",
    "        precision_fold.append(interp_precision)\n",
    "\n",
    "    mean_tpr = np.mean(tpr_fold, axis=0)\n",
    "    mean_tpr[-1] = 1.0\n",
    "    mean_auc = auc(mean_fpr, mean_tpr)\n",
    "    #plot_roc_curve(mean_fpr, mean_tpr, mean_auc)\n",
    "    roc = pd.DataFrame({'fpr': mean_fpr, 'tpr': mean_tpr})\n",
    "    roc.to_csv(save_path + 'lodocv_roc.csv', index=False)\n",
    "\n",
    "    mean_precision = np.mean(precision_fold, axis=0)\n",
    "    mean_precision[-1] = 0.0\n",
    "    mean_aupr = auc(mean_recall, mean_precision)\n",
    "    #plot_pr_curve(mean_recall, mean_precision, mean_aupr)\n",
    "    pr = pd.DataFrame({'recall': mean_recall, 'precision': mean_precision})\n",
    "    pr.to_csv(save_path + 'lodocv_pr.csv', index=False)\n",
    "\n",
    "    print('lodocv auc %0.6f', mean_auc, ', lodocv aupr %0.6f', mean_aupr)\n",
    "\n",
    "def GLOOCV(epochs):\n",
    "    known_associations, unknown_associations = divide_known_unknown_associations(DMA)\n",
    "\n",
    "    tpr_fold = []\n",
    "    precision_fold = []\n",
    "    n = len(known_associations)\n",
    "    mean_fpr = np.linspace(0, 1, 100)\n",
    "    mean_recall = np.linspace(0, 1, 100)\n",
    "    DMAcandidate = unknown_associations\n",
    "    for i in range(n):\n",
    "        print('current cv: %d, total cv: %d' % (i+1, n))\n",
    "\n",
    "        ele = known_associations[i]\n",
    "        DMAtest = [ele]\n",
    "        DMAtrain = np.delete(known_associations, i, axis=0)\n",
    "        \"\"\"\n",
    "        # used to adjust the superparameter\n",
    "        rs = np.random.randint(0, 1000, 1)[0]\n",
    "        DMAtrain, DMAvalid = train_test_split(DMAtrain, test_size=0.05, random_state=rs)\n",
    "        scores, labels = train_and_evaluate(DMAtrain=DMAtrain, DMAtest=DMAvalid, DMAcandidate=DMAcandidate, \n",
    "                                            graph=graph, num_steps=epochs)\n",
    "        \"\"\"\n",
    "        scores, labels = train_and_evaluate(DMAtrain=DMAtrain, DMAtest=DMAtest, DMAcandidate=DMAcandidate,\n",
    "                                            graph=graph, num_steps=epochs)\n",
    "\n",
    "        fpr, tpr, _ = roc_curve(labels, scores)\n",
    "        interp_tpr = interp(mean_fpr, fpr, tpr)\n",
    "        interp_tpr[0] = 0.0\n",
    "        tpr_fold.append(interp_tpr)\n",
    "\n",
    "        precision, recall, _ = precision_recall_curve(labels, scores)\n",
    "        rank_idx = np.argsort(recall)\n",
    "        recall = recall[rank_idx]\n",
    "        precision = precision[rank_idx]\n",
    "        interp_precision = interp(mean_recall, recall, precision)\n",
    "        interp_precision[0] = 1.0\n",
    "        precision_fold.append(interp_precision)\n",
    "\n",
    "    mean_tpr = np.mean(tpr_fold, axis=0)\n",
    "    mean_tpr[-1] = 1.0\n",
    "    mean_auc = auc(mean_fpr, mean_tpr)\n",
    "    #plot_roc_curve(mean_fpr, mean_tpr, mean_auc)\n",
    "    roc = pd.DataFrame({'fpr': mean_fpr, 'tpr': mean_tpr})\n",
    "    roc.to_csv(save_path + 'gloocv_roc.csv', index=False)\n",
    "\n",
    "    mean_precision = np.mean(precision_fold, axis=0)\n",
    "    mean_precision[-1] = 0.0\n",
    "    mean_aupr = auc(mean_recall, mean_precision)\n",
    "    #plot_pr_curve(mean_recall, mean_precision, mean_aupr)\n",
    "    pr = pd.DataFrame({'recall': mean_recall, 'precision': mean_precision})\n",
    "    pr.to_csv(save_path + 'gloocv_pr.csv', index=False)\n",
    "\n",
    "    print('global loocv auc %0.6f' % mean_auc, ', global loocv aupr %0.6f' % mean_aupr)\n",
    "\n",
    "def LLOOCV(epochs):\n",
    "    known_associations, unknown_associations = divide_known_unknown_associations(DMA)\n",
    "\n",
    "    tpr_fold = []\n",
    "    precision_fold = []\n",
    "    n = len(known_associations)\n",
    "    mean_fpr = np.linspace(0, 1, 100)\n",
    "    mean_recall = np.linspace(0, 1, 100)\n",
    "    for i in range(n):\n",
    "        print('current cv: %d, total cv: %d' % (i+1, n))\n",
    "\n",
    "        ele = known_associations[i]\n",
    "        DMAtest = [ele]\n",
    "        DMAtrain = np.delete(known_associations, i, axis=0)\n",
    "        _, DMAcandidate = divide_known_unknown_associations(DMA, special=ele[0])\n",
    "        \"\"\"\n",
    "        # used to adjust the superparameter\n",
    "        rs = np.random.randint(0, 1000, 1)[0]\n",
    "        DMAtrain, DMAvalid = train_test_split(DMAtrain, test_size=0.05, random_state=rs)\n",
    "        scores, labels = train_and_evaluate(DMAtrain=DMAtrain, DMAtest=DMAvalid, DMAcandidate=DMAcandidate, \n",
    "                                            graph=graph, num_steps=epochs)\n",
    "        \"\"\"\n",
    "        scores, labels = train_and_evaluate(DMAtrain=DMAtrain, DMAtest=DMAtest, DMAcandidate=DMAcandidate,\n",
    "                                            graph=graph, num_steps=epochs)\n",
    "\n",
    "        fpr, tpr, _ = roc_curve(labels, scores)\n",
    "        interp_tpr = interp(mean_fpr, fpr, tpr)\n",
    "        interp_tpr[0] = 0.0\n",
    "        tpr_fold.append(interp_tpr)\n",
    "\n",
    "        precision, recall, _ = precision_recall_curve(labels, scores)\n",
    "        rank_idx = np.argsort(recall)\n",
    "        recall = recall[rank_idx]\n",
    "        precision = precision[rank_idx]\n",
    "        interp_precision = interp(mean_recall, recall, precision)\n",
    "        interp_precision[0] = 1.0\n",
    "        precision_fold.append(interp_precision)\n",
    "\n",
    "    mean_tpr = np.mean(tpr_fold, axis=0)\n",
    "    mean_tpr[-1] = 1.0\n",
    "    mean_auc = auc(mean_fpr, mean_tpr)\n",
    "    #plot_roc_curve(mean_fpr, mean_tpr, mean_auc)\n",
    "    roc = pd.DataFrame({'fpr': mean_fpr, 'tpr': mean_tpr})\n",
    "    roc.to_csv(save_path + 'lloocv_roc.csv', index=False)\n",
    "\n",
    "    mean_precision = np.mean(precision_fold, axis=0)\n",
    "    mean_precision[-1] = 0.0\n",
    "    mean_aupr = auc(mean_recall, mean_precision)\n",
    "    #plot_pr_curve(mean_recall, mean_precision, mean_aupr)\n",
    "    pr = pd.DataFrame({'recall': mean_recall, 'precision': mean_precision})\n",
    "    pr.to_csv(save_path + 'lloocv_pr.csv', index=False)\n",
    "\n",
    "    print('local loocv auc %0.6f' % mean_auc, ', local loocv aupr %0.6f' % mean_aupr)\n",
    "\n",
    "def case_study1(epochs=2000):\n",
    "    DMAtest = []\n",
    "    DMAtrain, _ = divide_known_unknown_associations(DMA)\n",
    "    _, DMAcandidate = divide_known_unknown_associations(DMA, special=288)\n",
    "    scores, labels = train_and_evaluate(DMAtrain=DMAtrain, DMAtest=DMAtest, DMAcandidate=DMAcandidate,\n",
    "                                        graph=graph, num_steps=epochs)\n",
    "\n",
    "    index = []\n",
    "    for ele in DMAcandidate:\n",
    "        index.append(ele[1])\n",
    "\n",
    "    index = np.array(index)\n",
    "    scores = np.array(scores)\n",
    "    rank_idx = np.argsort(scores)\n",
    "    index = index[rank_idx]\n",
    "    index = index[-30:]\n",
    "\n",
    "    for i in index:\n",
    "        print(mirna_name[i])\n",
    "\n",
    "\n",
    "def case_study2(epochs=2000):\n",
    "    DMAtrain, _ = divide_known_unknown_associations(DMA, exception=271)\n",
    "    DMAtest, DMAcandidate = divide_known_unknown_associations(DMA, special=271)\n",
    "    scores, labels = train_and_evaluate(DMAtrain=DMAtrain, DMAtest=DMAtest, DMAcandidate=DMAcandidate,\n",
    "                                        graph=graph, num_steps=epochs)\n",
    "\n",
    "    index = []\n",
    "    for ele in DMAtest:\n",
    "        index.append(ele[1])\n",
    "    for ele in DMAcandidate:\n",
    "        index.append(ele[1])\n",
    "\n",
    "    index = np.array(index)\n",
    "    scores = np.array(scores)\n",
    "    rank_idx = np.argsort(scores)\n",
    "    index = index[rank_idx]\n",
    "    index = index[-50:]\n",
    "\n",
    "    for i in index:\n",
    "        print(mirna_name[i])"
   ]
  },
  {
   "cell_type": "markdown",
   "metadata": {},
   "source": [
    "# 思考"
   ]
  },
  {
   "cell_type": "code",
   "execution_count": 5,
   "metadata": {
    "collapsed": true
   },
   "outputs": [],
   "source": [
    "def performances(y_true, y_pred, y_prob):\n",
    "\n",
    "    tn, fp, fn, tp = confusion_matrix(y_true, y_pred, labels = [0, 1]).ravel().tolist()\n",
    "\n",
    "    accuracy = (tp+tn)/(tn+fp+fn+tp)\n",
    "    \n",
    "    if tp+fn == 0:\n",
    "        recall = 0\n",
    "    else:\n",
    "        recall = tp / (tp+fn)\n",
    "    \n",
    "    if tp+fp == 0:\n",
    "        precision = 0\n",
    "    else:\n",
    "        precision = tp / (tp+fp)\n",
    "    \n",
    "    if precision + recall == 0:\n",
    "        f1 = 0\n",
    "    else:\n",
    "        f1 = 2*precision*recall / (precision+recall)\n",
    "    \n",
    "    roc_auc = roc_auc_score(y_true, y_prob)\n",
    "    prec, reca, _ = precision_recall_curve(y_true, y_prob)\n",
    "    aupr = auc(reca, prec)\n",
    "    \n",
    "    print('tn = {}, fp = {}, fn = {}, tp = {}'.format(tn, fp, fn, tp))\n",
    "    print('y_pred: 0 = {} | 1 = {}'.format(Counter(y_pred)[0], Counter(y_pred)[1]))\n",
    "    print('y_true: 0 = {} | 1 = {}'.format(Counter(y_true)[0], Counter(y_true)[1]))\n",
    "    print('acc={:.4f}|precision={:.4f}|recall={:.4f}|f1={:.4f}|auc={:.4f}|aupr={:.4f}'.format(accuracy, precision, recall, f1, roc_auc, aupr))\n",
    "    return (y_true, y_pred, y_prob), (accuracy, precision, recall, f1, roc_auc, aupr)\n",
    "\n",
    "def transfer(y_pred):\n",
    "    return [[0,1][x>0.5] for x in y_pred.reshape(-1)]"
   ]
  },
  {
   "cell_type": "code",
   "execution_count": 6,
   "metadata": {
    "collapsed": true
   },
   "outputs": [],
   "source": [
    "def train_and_evaluate(DMAtrain, DMAtest, graph, verbose=True, num_steps = 2000):\n",
    "    mask = np.zeros((num_disease,num_mirna))\n",
    "    disease_mirna = np.zeros((num_disease,num_mirna))\n",
    "    for ele in DMAtrain:\n",
    "        disease_mirna[ele[0],ele[1]] = ele[2]\n",
    "        mask[ele[0],ele[1]] = 1\n",
    "    mirna_disease = disease_mirna.T\n",
    "    disease_mirna_normalize = row_normalize(disease_mirna,False)\n",
    "    mirna_disease_normalize = row_normalize(mirna_disease,False)\n",
    "    mask = np.concatenate([np.concatenate([np.ones((num_disease, num_disease)), mask], axis=1),\n",
    "                           np.concatenate([mask.T, np.ones((num_mirna, num_mirna))], axis=1)], axis=0)\n",
    "\n",
    "\n",
    "    lr = 0.0005\n",
    "    scores = []\n",
    "    labels = []\n",
    "    min_loss = float('inf')\n",
    "    with tf.Session(graph=graph) as sess:\n",
    "        tf.initialize_all_variables().run()\n",
    "        for i in trange(num_steps):\n",
    "            _, tloss, results = sess.run([optimizer,total_loss,eval_pred],\n",
    "                                        feed_dict={model.disease_mirna:disease_mirna, model.disease_mirna_normalize:disease_mirna_normalize,\n",
    "                                        model.mirna_disease:mirna_disease, model.mirna_disease_normalize:mirna_disease_normalize,\n",
    "                                        model.disease_disease:disease_similarity_matrix, model.mirna_mirna:mirna_similarity_matrix,\n",
    "                                        model.disease_disease_normalize:DS, model.mirna_mirna_normalize:MS,\n",
    "                                        model.disease_mirna_mask:mask, learning_rate: lr})\n",
    "            #every 20 steps of gradient descent, evaluate the performance, other choices of this number are possible\n",
    "            if i % 20 == 0 and verbose == True:\n",
    "#                 print('step',i,'total loss',tloss)\n",
    "\n",
    "                if tloss <= min_loss:\n",
    "                    min_loss = tloss\n",
    "                    best_results = results\n",
    "\n",
    "\n",
    "        for ele in DMAtest:\n",
    "            scores.append(best_results[ele[0], ele[1]])\n",
    "            labels.append(ele[2])\n",
    "        \n",
    "\n",
    "    return scores, labels\n",
    "\n",
    "def transfer(y_pred):\n",
    "    return [[0,1][x>0.5] for x in y_pred]"
   ]
  },
  {
   "cell_type": "markdown",
   "metadata": {},
   "source": [
    "# Tp, balance"
   ]
  },
  {
   "cell_type": "code",
   "execution_count": 7,
   "metadata": {},
   "outputs": [
    {
     "name": "stderr",
     "output_type": "stream",
     "text": [
      "5it [00:00, 202.05it/s]"
     ]
    },
    {
     "name": "stdout",
     "output_type": "stream",
     "text": [
      "# miRNA = 577 | Disease = 336\n",
      "# Test: miRNA = 115 | Disease = 67\n",
      "-------Fold  0\n",
      "# Pairs: Train = 10100 | Test = 2526\n",
      "-------Fold  1\n",
      "# Pairs: Train = 10101 | Test = 2525\n",
      "-------Fold  2\n",
      "# Pairs: Train = 10101 | Test = 2525\n",
      "-------Fold  3\n",
      "# Pairs: Train = 10101 | Test = 2525\n",
      "-------Fold  4\n",
      "# Pairs: Train = 10101 | Test = 2525\n"
     ]
    },
    {
     "name": "stderr",
     "output_type": "stream",
     "text": [
      "\n"
     ]
    }
   ],
   "source": [
    "known_associations, unknown_associations = divide_known_unknown_associations(DMA)\n",
    "dtp = pd.DataFrame(np.vstack([known_associations, unknown_associations]), columns = ['disease', 'miRNA', 'label'])\n",
    "dtp, mirna_ids, disease_ids, mirna_test_num, disease_test_num = obtain_data(dtp, isbalance = True)\n",
    "train_index_all, test_index_all, train_id_all, test_id_all = generate_task_Tp_train_test_idx(dtp)"
   ]
  },
  {
   "cell_type": "code",
   "execution_count": 8,
   "metadata": {
    "scrolled": true
   },
   "outputs": [
    {
     "name": "stdout",
     "output_type": "stream",
     "text": [
      "WARNING:tensorflow:From /home/chujunyi/anaconda3/envs/tensorflow_1.8/lib/python3.6/site-packages/tensorflow/python/util/tf_should_use.py:193: initialize_all_variables (from tensorflow.python.ops.variables) is deprecated and will be removed after 2017-03-02.\n",
      "Instructions for updating:\n",
      "Use `tf.global_variables_initializer` instead.\n"
     ]
    },
    {
     "name": "stderr",
     "output_type": "stream",
     "text": [
      "100%|██████████| 2000/2000 [05:05<00:00,  6.54it/s]\n",
      "/home/chujunyi/anaconda3/envs/tensorflow_1.8/lib/python3.6/site-packages/ipykernel_launcher.py:44: DeprecationWarning: In future, it will be an error for 'np.bool_' scalars to be interpreted as an index\n"
     ]
    },
    {
     "name": "stdout",
     "output_type": "stream",
     "text": [
      "tn = 1273, fp = 3, fn = 719, tp = 531\n",
      "y_pred: 0 = 1992 | 1 = 534\n",
      "y_true: 0 = 1276 | 1 = 1250\n",
      "acc=0.7142|precision=0.9944|recall=0.4248|f1=0.5953|auc=0.9694|aupr=0.9717\n"
     ]
    },
    {
     "name": "stderr",
     "output_type": "stream",
     "text": [
      "100%|██████████| 2000/2000 [05:17<00:00,  6.29it/s]\n",
      "/home/chujunyi/anaconda3/envs/tensorflow_1.8/lib/python3.6/site-packages/ipykernel_launcher.py:44: DeprecationWarning: In future, it will be an error for 'np.bool_' scalars to be interpreted as an index\n"
     ]
    },
    {
     "name": "stdout",
     "output_type": "stream",
     "text": [
      "tn = 1275, fp = 5, fn = 708, tp = 537\n",
      "y_pred: 0 = 1983 | 1 = 542\n",
      "y_true: 0 = 1280 | 1 = 1245\n",
      "acc=0.7176|precision=0.9908|recall=0.4313|f1=0.6010|auc=0.9688|aupr=0.9688\n"
     ]
    },
    {
     "name": "stderr",
     "output_type": "stream",
     "text": [
      "100%|██████████| 2000/2000 [04:12<00:00,  7.93it/s]\n",
      "/home/chujunyi/anaconda3/envs/tensorflow_1.8/lib/python3.6/site-packages/ipykernel_launcher.py:44: DeprecationWarning: In future, it will be an error for 'np.bool_' scalars to be interpreted as an index\n"
     ]
    },
    {
     "name": "stdout",
     "output_type": "stream",
     "text": [
      "tn = 1231, fp = 5, fn = 751, tp = 538\n",
      "y_pred: 0 = 1982 | 1 = 543\n",
      "y_true: 0 = 1236 | 1 = 1289\n",
      "acc=0.7006|precision=0.9908|recall=0.4174|f1=0.5873|auc=0.9633|aupr=0.9666\n"
     ]
    },
    {
     "name": "stderr",
     "output_type": "stream",
     "text": [
      "100%|██████████| 2000/2000 [03:28<00:00,  9.61it/s]\n",
      "/home/chujunyi/anaconda3/envs/tensorflow_1.8/lib/python3.6/site-packages/ipykernel_launcher.py:44: DeprecationWarning: In future, it will be an error for 'np.bool_' scalars to be interpreted as an index\n"
     ]
    },
    {
     "name": "stdout",
     "output_type": "stream",
     "text": [
      "tn = 1249, fp = 4, fn = 710, tp = 562\n",
      "y_pred: 0 = 1959 | 1 = 566\n",
      "y_true: 0 = 1253 | 1 = 1272\n",
      "acc=0.7172|precision=0.9929|recall=0.4418|f1=0.6115|auc=0.9655|aupr=0.9682\n"
     ]
    },
    {
     "name": "stderr",
     "output_type": "stream",
     "text": [
      "100%|██████████| 2000/2000 [03:21<00:00,  9.94it/s]\n",
      "/home/chujunyi/anaconda3/envs/tensorflow_1.8/lib/python3.6/site-packages/ipykernel_launcher.py:44: DeprecationWarning: In future, it will be an error for 'np.bool_' scalars to be interpreted as an index\n"
     ]
    },
    {
     "name": "stdout",
     "output_type": "stream",
     "text": [
      "tn = 1263, fp = 5, fn = 790, tp = 467\n",
      "y_pred: 0 = 2053 | 1 = 472\n",
      "y_true: 0 = 1268 | 1 = 1257\n",
      "acc=0.6851|precision=0.9894|recall=0.3715|f1=0.5402|auc=0.9601|aupr=0.9610\n"
     ]
    }
   ],
   "source": [
    "epochs = 2000\n",
    "\n",
    "tpr_fold = []\n",
    "precision_fold = []\n",
    "mean_fpr = np.linspace(0, 1, 100)\n",
    "mean_recall = np.linspace(0, 1, 100)\n",
    "# DMAcandidate = unknown_associations\n",
    "for train_idx, test_idx in zip(train_index_all, test_index_all):\n",
    "    DMAtrain = np.array(dtp.iloc[train_idx])\n",
    "    DMAtest = np.array(dtp.iloc[test_idx])\n",
    "\n",
    "    \"\"\"\n",
    "    # used to adjust the superparameter\n",
    "    DMAtrain, DMAvalid = train_test_split(DMAtrain, test_size=0.05, random_state=rs)\n",
    "    scores, labels = train_and_evaluate(DMAtrain=DMAtrain, DMAtest=DMAvalid, DMAcandidate=DMAcandidate, \n",
    "                                        graph=graph, num_steps=epochs)\n",
    "    \"\"\"\n",
    "    scores, labels = train_and_evaluate(DMAtrain=DMAtrain, DMAtest=DMAtest,\n",
    "                                        graph=graph, num_steps=epochs)\n",
    "    y_test_prob = scores\n",
    "    y_test_pred = transfer(y_test_prob)\n",
    "    performances_test = performances(labels, y_test_pred, y_test_prob)"
   ]
  },
  {
   "cell_type": "markdown",
   "metadata": {
    "collapsed": true
   },
   "source": [
    "# Tm, balance"
   ]
  },
  {
   "cell_type": "code",
   "execution_count": 10,
   "metadata": {
    "scrolled": true
   },
   "outputs": [
    {
     "name": "stdout",
     "output_type": "stream",
     "text": [
      "# miRNA = 577 | Disease = 336\n",
      "# Test: miRNA = 115 | Disease = 67\n",
      "-------Fold  0\n",
      "# miRNA: Train = 462 | Test = 115\n",
      "# Pairs: Train = 9783 | Test = 2843\n",
      "-------Fold  1\n",
      "# miRNA: Train = 462 | Test = 115\n",
      "# Pairs: Train = 10233 | Test = 2393\n",
      "-------Fold  2\n",
      "# miRNA: Train = 462 | Test = 115\n",
      "# Pairs: Train = 10096 | Test = 2530\n",
      "-------Fold  3\n",
      "# miRNA: Train = 462 | Test = 115\n",
      "# Pairs: Train = 10296 | Test = 2330\n",
      "-------Fold  4\n",
      "# miRNA: Train = 460 | Test = 117\n",
      "# Pairs: Train = 10096 | Test = 2530\n"
     ]
    },
    {
     "name": "stderr",
     "output_type": "stream",
     "text": [
      "100%|██████████| 2000/2000 [03:23<00:00,  9.84it/s]\n",
      "/home/chujunyi/anaconda3/envs/tensorflow_1.8/lib/python3.6/site-packages/ipykernel_launcher.py:44: DeprecationWarning: In future, it will be an error for 'np.bool_' scalars to be interpreted as an index\n"
     ]
    },
    {
     "name": "stdout",
     "output_type": "stream",
     "text": [
      "tn = 1228, fp = 5, fn = 1066, tp = 544\n",
      "y_pred: 0 = 2294 | 1 = 549\n",
      "y_true: 0 = 1233 | 1 = 1610\n",
      "acc=0.6233|precision=0.9909|recall=0.3379|f1=0.5039|auc=0.9569|aupr=0.9656\n"
     ]
    },
    {
     "name": "stderr",
     "output_type": "stream",
     "text": [
      "100%|██████████| 2000/2000 [03:24<00:00,  9.77it/s]\n",
      "/home/chujunyi/anaconda3/envs/tensorflow_1.8/lib/python3.6/site-packages/ipykernel_launcher.py:44: DeprecationWarning: In future, it will be an error for 'np.bool_' scalars to be interpreted as an index\n"
     ]
    },
    {
     "name": "stdout",
     "output_type": "stream",
     "text": [
      "tn = 1259, fp = 4, fn = 579, tp = 551\n",
      "y_pred: 0 = 1838 | 1 = 555\n",
      "y_true: 0 = 1263 | 1 = 1130\n",
      "acc=0.7564|precision=0.9928|recall=0.4876|f1=0.6540|auc=0.9768|aupr=0.9766\n"
     ]
    },
    {
     "name": "stderr",
     "output_type": "stream",
     "text": [
      "100%|██████████| 2000/2000 [03:21<00:00,  9.91it/s]\n",
      "/home/chujunyi/anaconda3/envs/tensorflow_1.8/lib/python3.6/site-packages/ipykernel_launcher.py:44: DeprecationWarning: In future, it will be an error for 'np.bool_' scalars to be interpreted as an index\n"
     ]
    },
    {
     "name": "stdout",
     "output_type": "stream",
     "text": [
      "tn = 1253, fp = 3, fn = 778, tp = 496\n",
      "y_pred: 0 = 2031 | 1 = 499\n",
      "y_true: 0 = 1256 | 1 = 1274\n",
      "acc=0.6913|precision=0.9940|recall=0.3893|f1=0.5595|auc=0.9639|aupr=0.9641\n"
     ]
    },
    {
     "name": "stderr",
     "output_type": "stream",
     "text": [
      "100%|██████████| 2000/2000 [03:18<00:00, 10.07it/s]\n",
      "/home/chujunyi/anaconda3/envs/tensorflow_1.8/lib/python3.6/site-packages/ipykernel_launcher.py:44: DeprecationWarning: In future, it will be an error for 'np.bool_' scalars to be interpreted as an index\n"
     ]
    },
    {
     "name": "stdout",
     "output_type": "stream",
     "text": [
      "tn = 1294, fp = 5, fn = 575, tp = 456\n",
      "y_pred: 0 = 1869 | 1 = 461\n",
      "y_true: 0 = 1299 | 1 = 1031\n",
      "acc=0.7511|precision=0.9892|recall=0.4423|f1=0.6113|auc=0.9645|aupr=0.9591\n"
     ]
    },
    {
     "name": "stderr",
     "output_type": "stream",
     "text": [
      "100%|██████████| 2000/2000 [03:20<00:00,  9.99it/s]\n",
      "/home/chujunyi/anaconda3/envs/tensorflow_1.8/lib/python3.6/site-packages/ipykernel_launcher.py:44: DeprecationWarning: In future, it will be an error for 'np.bool_' scalars to be interpreted as an index\n"
     ]
    },
    {
     "name": "stdout",
     "output_type": "stream",
     "text": [
      "tn = 1255, fp = 7, fn = 707, tp = 561\n",
      "y_pred: 0 = 1962 | 1 = 568\n",
      "y_true: 0 = 1262 | 1 = 1268\n",
      "acc=0.7178|precision=0.9877|recall=0.4424|f1=0.6111|auc=0.9614|aupr=0.9635\n"
     ]
    }
   ],
   "source": [
    "known_associations, unknown_associations = divide_known_unknown_associations(DMA)\n",
    "dtp = pd.DataFrame(np.vstack([known_associations, unknown_associations]), columns = ['disease', 'miRNA', 'label'])\n",
    "dtp, mirna_ids, disease_ids, mirna_test_num, disease_test_num = obtain_data(dtp, isbalance = True)\n",
    "item = 'miRNA'\n",
    "ids = mirna_ids\n",
    "train_index_all, test_index_all, train_id_all, test_id_all = generate_task_Tm_Td_train_test_idx(item, ids, dtp)\n",
    "\n",
    "\n",
    "epochs = 2000\n",
    "\n",
    "tpr_fold = []\n",
    "precision_fold = []\n",
    "mean_fpr = np.linspace(0, 1, 100)\n",
    "mean_recall = np.linspace(0, 1, 100)\n",
    "# DMAcandidate = unknown_associations\n",
    "for train_idx, test_idx in zip(train_index_all, test_index_all):\n",
    "    DMAtrain = np.array(dtp.iloc[train_idx])\n",
    "    DMAtest = np.array(dtp.iloc[test_idx])\n",
    "\n",
    "    \"\"\"\n",
    "    # used to adjust the superparameter\n",
    "    DMAtrain, DMAvalid = train_test_split(DMAtrain, test_size=0.05, random_state=rs)\n",
    "    scores, labels = train_and_evaluate(DMAtrain=DMAtrain, DMAtest=DMAvalid, DMAcandidate=DMAcandidate, \n",
    "                                        graph=graph, num_steps=epochs)\n",
    "    \"\"\"\n",
    "    scores, labels = train_and_evaluate(DMAtrain=DMAtrain, DMAtest=DMAtest,\n",
    "                                        graph=graph, num_steps=epochs)\n",
    "    y_test_prob = scores\n",
    "    y_test_pred = transfer(y_test_prob)\n",
    "    performances_test = performances(labels, y_test_pred, y_test_prob)"
   ]
  },
  {
   "cell_type": "markdown",
   "metadata": {},
   "source": [
    "# Td, balance"
   ]
  },
  {
   "cell_type": "code",
   "execution_count": 12,
   "metadata": {
    "scrolled": true
   },
   "outputs": [
    {
     "name": "stdout",
     "output_type": "stream",
     "text": [
      "# miRNA = 577 | Disease = 336\n",
      "# Test: miRNA = 115 | Disease = 67\n",
      "-------Fold  0\n",
      "# disease: Train = 269 | Test = 67\n",
      "# Pairs: Train = 9842 | Test = 2784\n",
      "-------Fold  1\n",
      "# disease: Train = 269 | Test = 67\n",
      "# Pairs: Train = 10202 | Test = 2424\n",
      "-------Fold  2\n",
      "# disease: Train = 269 | Test = 67\n",
      "# Pairs: Train = 10245 | Test = 2381\n",
      "-------Fold  3\n",
      "# disease: Train = 269 | Test = 67\n",
      "# Pairs: Train = 9814 | Test = 2812\n",
      "-------Fold  4\n",
      "# disease: Train = 268 | Test = 68\n",
      "# Pairs: Train = 10401 | Test = 2225\n"
     ]
    },
    {
     "name": "stderr",
     "output_type": "stream",
     "text": [
      "100%|██████████| 2000/2000 [03:34<00:00,  9.33it/s]\n",
      "/home/chujunyi/anaconda3/envs/tensorflow_1.8/lib/python3.6/site-packages/ipykernel_launcher.py:44: DeprecationWarning: In future, it will be an error for 'np.bool_' scalars to be interpreted as an index\n"
     ]
    },
    {
     "name": "stdout",
     "output_type": "stream",
     "text": [
      "tn = 1240, fp = 0, fn = 1521, tp = 23\n",
      "y_pred: 0 = 2761 | 1 = 23\n",
      "y_true: 0 = 1240 | 1 = 1544\n",
      "acc=0.4537|precision=1.0000|recall=0.0149|f1=0.0294|auc=0.8549|aupr=0.8825\n"
     ]
    },
    {
     "name": "stderr",
     "output_type": "stream",
     "text": [
      "100%|██████████| 2000/2000 [03:52<00:00,  8.59it/s]\n",
      "/home/chujunyi/anaconda3/envs/tensorflow_1.8/lib/python3.6/site-packages/ipykernel_launcher.py:44: DeprecationWarning: In future, it will be an error for 'np.bool_' scalars to be interpreted as an index\n"
     ]
    },
    {
     "name": "stdout",
     "output_type": "stream",
     "text": [
      "tn = 1293, fp = 1, fn = 1113, tp = 17\n",
      "y_pred: 0 = 2406 | 1 = 18\n",
      "y_true: 0 = 1294 | 1 = 1130\n",
      "acc=0.5404|precision=0.9444|recall=0.0150|f1=0.0296|auc=0.8639|aupr=0.8560\n"
     ]
    },
    {
     "name": "stderr",
     "output_type": "stream",
     "text": [
      "100%|██████████| 2000/2000 [03:26<00:00,  9.71it/s]\n",
      "/home/chujunyi/anaconda3/envs/tensorflow_1.8/lib/python3.6/site-packages/ipykernel_launcher.py:44: DeprecationWarning: In future, it will be an error for 'np.bool_' scalars to be interpreted as an index\n"
     ]
    },
    {
     "name": "stdout",
     "output_type": "stream",
     "text": [
      "tn = 1277, fp = 1, fn = 1085, tp = 18\n",
      "y_pred: 0 = 2362 | 1 = 19\n",
      "y_true: 0 = 1278 | 1 = 1103\n",
      "acc=0.5439|precision=0.9474|recall=0.0163|f1=0.0321|auc=0.8643|aupr=0.8478\n"
     ]
    },
    {
     "name": "stderr",
     "output_type": "stream",
     "text": [
      "100%|██████████| 2000/2000 [03:25<00:00,  9.72it/s]\n",
      "/home/chujunyi/anaconda3/envs/tensorflow_1.8/lib/python3.6/site-packages/ipykernel_launcher.py:44: DeprecationWarning: In future, it will be an error for 'np.bool_' scalars to be interpreted as an index\n"
     ]
    },
    {
     "name": "stdout",
     "output_type": "stream",
     "text": [
      "tn = 1222, fp = 0, fn = 1574, tp = 16\n",
      "y_pred: 0 = 2796 | 1 = 16\n",
      "y_true: 0 = 1222 | 1 = 1590\n",
      "acc=0.4403|precision=1.0000|recall=0.0101|f1=0.0199|auc=0.8764|aupr=0.8985\n"
     ]
    },
    {
     "name": "stderr",
     "output_type": "stream",
     "text": [
      "100%|██████████| 2000/2000 [04:11<00:00,  7.96it/s]\n",
      "/home/chujunyi/anaconda3/envs/tensorflow_1.8/lib/python3.6/site-packages/ipykernel_launcher.py:44: DeprecationWarning: In future, it will be an error for 'np.bool_' scalars to be interpreted as an index\n"
     ]
    },
    {
     "name": "stdout",
     "output_type": "stream",
     "text": [
      "tn = 1279, fp = 0, fn = 918, tp = 28\n",
      "y_pred: 0 = 2197 | 1 = 28\n",
      "y_true: 0 = 1279 | 1 = 946\n",
      "acc=0.5874|precision=1.0000|recall=0.0296|f1=0.0575|auc=0.8522|aupr=0.8135\n"
     ]
    }
   ],
   "source": [
    "known_associations, unknown_associations = divide_known_unknown_associations(DMA)\n",
    "dtp = pd.DataFrame(np.vstack([known_associations, unknown_associations]), columns = ['disease', 'miRNA', 'label'])\n",
    "dtp, mirna_ids, disease_ids, mirna_test_num, disease_test_num = obtain_data(dtp, isbalance = True)\n",
    "item = 'disease'\n",
    "ids = disease_ids\n",
    "train_index_all, test_index_all, train_id_all, test_id_all = generate_task_Tm_Td_train_test_idx(item, ids, dtp)\n",
    "\n",
    "\n",
    "epochs = 2000\n",
    "\n",
    "tpr_fold = []\n",
    "precision_fold = []\n",
    "mean_fpr = np.linspace(0, 1, 100)\n",
    "mean_recall = np.linspace(0, 1, 100)\n",
    "# DMAcandidate = unknown_associations\n",
    "for train_idx, test_idx in zip(train_index_all, test_index_all):\n",
    "    DMAtrain = np.array(dtp.iloc[train_idx])\n",
    "    DMAtest = np.array(dtp.iloc[test_idx])\n",
    "\n",
    "    \"\"\"\n",
    "    # used to adjust the superparameter\n",
    "    DMAtrain, DMAvalid = train_test_split(DMAtrain, test_size=0.05, random_state=rs)\n",
    "    scores, labels = train_and_evaluate(DMAtrain=DMAtrain, DMAtest=DMAvalid, DMAcandidate=DMAcandidate, \n",
    "                                        graph=graph, num_steps=epochs)\n",
    "    \"\"\"\n",
    "    scores, labels = train_and_evaluate(DMAtrain=DMAtrain, DMAtest=DMAtest,\n",
    "                                        graph=graph, num_steps=epochs)\n",
    "    y_test_prob = scores\n",
    "    y_test_pred = transfer(y_test_prob)\n",
    "    performances_test = performances(labels, y_test_pred, y_test_prob)"
   ]
  },
  {
   "cell_type": "markdown",
   "metadata": {},
   "source": [
    "# Tp, unbalanced"
   ]
  },
  {
   "cell_type": "code",
   "execution_count": 13,
   "metadata": {
    "scrolled": true
   },
   "outputs": [
    {
     "name": "stderr",
     "output_type": "stream",
     "text": [
      "1it [00:00,  7.73it/s]"
     ]
    },
    {
     "name": "stdout",
     "output_type": "stream",
     "text": [
      "# miRNA = 577 | Disease = 336\n",
      "# Test: miRNA = 115 | Disease = 67\n",
      "-------Fold  0\n",
      "# Pairs: Train = 155097 | Test = 38775\n",
      "-------Fold  1\n",
      "# Pairs: Train = 155097 | Test = 38775\n",
      "-------Fold  2\n"
     ]
    },
    {
     "name": "stderr",
     "output_type": "stream",
     "text": [
      "5it [00:00, 16.10it/s]\n"
     ]
    },
    {
     "name": "stdout",
     "output_type": "stream",
     "text": [
      "# Pairs: Train = 155098 | Test = 38774\n",
      "-------Fold  3\n",
      "# Pairs: Train = 155098 | Test = 38774\n",
      "-------Fold  4\n",
      "# Pairs: Train = 155098 | Test = 38774\n"
     ]
    },
    {
     "name": "stderr",
     "output_type": "stream",
     "text": [
      "100%|██████████| 2000/2000 [03:54<00:00,  8.53it/s]\n",
      "/home/chujunyi/anaconda3/envs/tensorflow_1.8/lib/python3.6/site-packages/ipykernel_launcher.py:44: DeprecationWarning: In future, it will be an error for 'np.bool_' scalars to be interpreted as an index\n"
     ]
    },
    {
     "name": "stdout",
     "output_type": "stream",
     "text": [
      "tn = 37468, fp = 30, fn = 955, tp = 322\n",
      "y_pred: 0 = 38423 | 1 = 352\n",
      "y_true: 0 = 37498 | 1 = 1277\n",
      "acc=0.9746|precision=0.9148|recall=0.2522|f1=0.3953|auc=0.9737|aupr=0.7434\n"
     ]
    },
    {
     "name": "stderr",
     "output_type": "stream",
     "text": [
      "100%|██████████| 2000/2000 [03:39<00:00,  9.11it/s]\n",
      "/home/chujunyi/anaconda3/envs/tensorflow_1.8/lib/python3.6/site-packages/ipykernel_launcher.py:44: DeprecationWarning: In future, it will be an error for 'np.bool_' scalars to be interpreted as an index\n"
     ]
    },
    {
     "name": "stdout",
     "output_type": "stream",
     "text": [
      "tn = 37502, fp = 40, fn = 872, tp = 361\n",
      "y_pred: 0 = 38374 | 1 = 401\n",
      "y_true: 0 = 37542 | 1 = 1233\n",
      "acc=0.9765|precision=0.9002|recall=0.2928|f1=0.4419|auc=0.9696|aupr=0.7264\n"
     ]
    },
    {
     "name": "stderr",
     "output_type": "stream",
     "text": [
      "100%|██████████| 2000/2000 [03:23<00:00,  9.83it/s]\n",
      "/home/chujunyi/anaconda3/envs/tensorflow_1.8/lib/python3.6/site-packages/ipykernel_launcher.py:44: DeprecationWarning: In future, it will be an error for 'np.bool_' scalars to be interpreted as an index\n"
     ]
    },
    {
     "name": "stdout",
     "output_type": "stream",
     "text": [
      "tn = 37426, fp = 37, fn = 933, tp = 378\n",
      "y_pred: 0 = 38359 | 1 = 415\n",
      "y_true: 0 = 37463 | 1 = 1311\n",
      "acc=0.9750|precision=0.9108|recall=0.2883|f1=0.4380|auc=0.9622|aupr=0.7141\n"
     ]
    },
    {
     "name": "stderr",
     "output_type": "stream",
     "text": [
      "100%|██████████| 2000/2000 [03:18<00:00, 10.09it/s]\n",
      "/home/chujunyi/anaconda3/envs/tensorflow_1.8/lib/python3.6/site-packages/ipykernel_launcher.py:44: DeprecationWarning: In future, it will be an error for 'np.bool_' scalars to be interpreted as an index\n"
     ]
    },
    {
     "name": "stdout",
     "output_type": "stream",
     "text": [
      "tn = 37501, fp = 31, fn = 915, tp = 327\n",
      "y_pred: 0 = 38416 | 1 = 358\n",
      "y_true: 0 = 37532 | 1 = 1242\n",
      "acc=0.9756|precision=0.9134|recall=0.2633|f1=0.4088|auc=0.9691|aupr=0.7210\n"
     ]
    },
    {
     "name": "stderr",
     "output_type": "stream",
     "text": [
      "100%|██████████| 2000/2000 [03:10<00:00, 10.52it/s]\n",
      "/home/chujunyi/anaconda3/envs/tensorflow_1.8/lib/python3.6/site-packages/ipykernel_launcher.py:44: DeprecationWarning: In future, it will be an error for 'np.bool_' scalars to be interpreted as an index\n"
     ]
    },
    {
     "name": "stdout",
     "output_type": "stream",
     "text": [
      "tn = 37507, fp = 17, fn = 991, tp = 259\n",
      "y_pred: 0 = 38498 | 1 = 276\n",
      "y_true: 0 = 37524 | 1 = 1250\n",
      "acc=0.9740|precision=0.9384|recall=0.2072|f1=0.3394|auc=0.9652|aupr=0.7367\n"
     ]
    }
   ],
   "source": [
    "known_associations, unknown_associations = divide_known_unknown_associations(DMA)\n",
    "dtp = pd.DataFrame(np.vstack([known_associations, unknown_associations]), columns = ['disease', 'miRNA', 'label'])\n",
    "dtp, mirna_ids, disease_ids, mirna_test_num, disease_test_num = obtain_data(dtp, isbalance = False)\n",
    "train_index_all, test_index_all, train_id_all, test_id_all = generate_task_Tp_train_test_idx(dtp)\n",
    "\n",
    "epochs = 2000\n",
    "\n",
    "tpr_fold = []\n",
    "precision_fold = []\n",
    "mean_fpr = np.linspace(0, 1, 100)\n",
    "mean_recall = np.linspace(0, 1, 100)\n",
    "# DMAcandidate = unknown_associations\n",
    "for train_idx, test_idx in zip(train_index_all, test_index_all):\n",
    "    DMAtrain = np.array(dtp.iloc[train_idx])\n",
    "    DMAtest = np.array(dtp.iloc[test_idx])\n",
    "\n",
    "    \"\"\"\n",
    "    # used to adjust the superparameter\n",
    "    DMAtrain, DMAvalid = train_test_split(DMAtrain, test_size=0.05, random_state=rs)\n",
    "    scores, labels = train_and_evaluate(DMAtrain=DMAtrain, DMAtest=DMAvalid, DMAcandidate=DMAcandidate, \n",
    "                                        graph=graph, num_steps=epochs)\n",
    "    \"\"\"\n",
    "    scores, labels = train_and_evaluate(DMAtrain=DMAtrain, DMAtest=DMAtest,\n",
    "                                        graph=graph, num_steps=epochs)\n",
    "    y_test_prob = scores\n",
    "    y_test_pred = transfer(y_test_prob)\n",
    "    performances_test = performances(labels, y_test_pred, y_test_prob)"
   ]
  },
  {
   "cell_type": "markdown",
   "metadata": {},
   "source": [
    "# Tm, unbalanced"
   ]
  },
  {
   "cell_type": "code",
   "execution_count": 14,
   "metadata": {
    "scrolled": true
   },
   "outputs": [
    {
     "name": "stdout",
     "output_type": "stream",
     "text": [
      "# miRNA = 577 | Disease = 336\n",
      "# Test: miRNA = 115 | Disease = 67\n",
      "-------Fold  0\n",
      "# miRNA: Train = 462 | Test = 115\n",
      "# Pairs: Train = 155232 | Test = 38640\n",
      "-------Fold  1\n",
      "# miRNA: Train = 462 | Test = 115\n",
      "# Pairs: Train = 155232 | Test = 38640\n",
      "-------Fold  2\n",
      "# miRNA: Train = 462 | Test = 115\n",
      "# Pairs: Train = 155232 | Test = 38640\n",
      "-------Fold  3\n",
      "# miRNA: Train = 462 | Test = 115\n",
      "# Pairs: Train = 155232 | Test = 38640\n",
      "-------Fold  4\n",
      "# miRNA: Train = 460 | Test = 117\n",
      "# Pairs: Train = 154560 | Test = 39312\n"
     ]
    },
    {
     "name": "stderr",
     "output_type": "stream",
     "text": [
      "100%|██████████| 2000/2000 [03:08<00:00, 10.60it/s]\n",
      "/home/chujunyi/anaconda3/envs/tensorflow_1.8/lib/python3.6/site-packages/ipykernel_launcher.py:44: DeprecationWarning: In future, it will be an error for 'np.bool_' scalars to be interpreted as an index\n"
     ]
    },
    {
     "name": "stdout",
     "output_type": "stream",
     "text": [
      "tn = 37122, fp = 29, fn = 1148, tp = 341\n",
      "y_pred: 0 = 38270 | 1 = 370\n",
      "y_true: 0 = 37151 | 1 = 1489\n",
      "acc=0.9695|precision=0.9216|recall=0.2290|f1=0.3669|auc=0.9541|aupr=0.6952\n"
     ]
    },
    {
     "name": "stderr",
     "output_type": "stream",
     "text": [
      "100%|██████████| 2000/2000 [03:07<00:00, 10.67it/s]\n",
      "/home/chujunyi/anaconda3/envs/tensorflow_1.8/lib/python3.6/site-packages/ipykernel_launcher.py:44: DeprecationWarning: In future, it will be an error for 'np.bool_' scalars to be interpreted as an index\n"
     ]
    },
    {
     "name": "stdout",
     "output_type": "stream",
     "text": [
      "tn = 37155, fp = 35, fn = 1089, tp = 361\n",
      "y_pred: 0 = 38244 | 1 = 396\n",
      "y_true: 0 = 37190 | 1 = 1450\n",
      "acc=0.9709|precision=0.9116|recall=0.2490|f1=0.3911|auc=0.9503|aupr=0.6634\n"
     ]
    },
    {
     "name": "stderr",
     "output_type": "stream",
     "text": [
      "100%|██████████| 2000/2000 [03:12<00:00, 10.37it/s]\n",
      "/home/chujunyi/anaconda3/envs/tensorflow_1.8/lib/python3.6/site-packages/ipykernel_launcher.py:44: DeprecationWarning: In future, it will be an error for 'np.bool_' scalars to be interpreted as an index\n"
     ]
    },
    {
     "name": "stdout",
     "output_type": "stream",
     "text": [
      "tn = 37585, fp = 8, fn = 733, tp = 314\n",
      "y_pred: 0 = 38318 | 1 = 322\n",
      "y_true: 0 = 37593 | 1 = 1047\n",
      "acc=0.9808|precision=0.9752|recall=0.2999|f1=0.4587|auc=0.9701|aupr=0.7619\n"
     ]
    },
    {
     "name": "stderr",
     "output_type": "stream",
     "text": [
      "100%|██████████| 2000/2000 [03:19<00:00, 10.05it/s]\n",
      "/home/chujunyi/anaconda3/envs/tensorflow_1.8/lib/python3.6/site-packages/ipykernel_launcher.py:44: DeprecationWarning: In future, it will be an error for 'np.bool_' scalars to be interpreted as an index\n"
     ]
    },
    {
     "name": "stdout",
     "output_type": "stream",
     "text": [
      "tn = 37302, fp = 41, fn = 978, tp = 319\n",
      "y_pred: 0 = 38280 | 1 = 360\n",
      "y_true: 0 = 37343 | 1 = 1297\n",
      "acc=0.9736|precision=0.8861|recall=0.2460|f1=0.3850|auc=0.9606|aupr=0.6753\n"
     ]
    },
    {
     "name": "stderr",
     "output_type": "stream",
     "text": [
      "100%|██████████| 2000/2000 [03:14<00:00, 10.27it/s]\n",
      "/home/chujunyi/anaconda3/envs/tensorflow_1.8/lib/python3.6/site-packages/ipykernel_launcher.py:44: DeprecationWarning: In future, it will be an error for 'np.bool_' scalars to be interpreted as an index\n"
     ]
    },
    {
     "name": "stdout",
     "output_type": "stream",
     "text": [
      "tn = 38234, fp = 48, fn = 673, tp = 357\n",
      "y_pred: 0 = 38907 | 1 = 405\n",
      "y_true: 0 = 38282 | 1 = 1030\n",
      "acc=0.9817|precision=0.8815|recall=0.3466|f1=0.4976|auc=0.9736|aupr=0.7059\n"
     ]
    }
   ],
   "source": [
    "known_associations, unknown_associations = divide_known_unknown_associations(DMA)\n",
    "dtp = pd.DataFrame(np.vstack([known_associations, unknown_associations]), columns = ['disease', 'miRNA', 'label'])\n",
    "dtp, mirna_ids, disease_ids, mirna_test_num, disease_test_num = obtain_data(dtp, isbalance = False)\n",
    "item = 'miRNA'\n",
    "ids = mirna_ids\n",
    "train_index_all, test_index_all, train_id_all, test_id_all = generate_task_Tm_Td_train_test_idx(item, ids, dtp)\n",
    "\n",
    "\n",
    "epochs = 2000\n",
    "\n",
    "tpr_fold = []\n",
    "precision_fold = []\n",
    "mean_fpr = np.linspace(0, 1, 100)\n",
    "mean_recall = np.linspace(0, 1, 100)\n",
    "# DMAcandidate = unknown_associations\n",
    "for train_idx, test_idx in zip(train_index_all, test_index_all):\n",
    "    DMAtrain = np.array(dtp.iloc[train_idx])\n",
    "    DMAtest = np.array(dtp.iloc[test_idx])\n",
    "\n",
    "    \"\"\"\n",
    "    # used to adjust the superparameter\n",
    "    DMAtrain, DMAvalid = train_test_split(DMAtrain, test_size=0.05, random_state=rs)\n",
    "    scores, labels = train_and_evaluate(DMAtrain=DMAtrain, DMAtest=DMAvalid, DMAcandidate=DMAcandidate, \n",
    "                                        graph=graph, num_steps=epochs)\n",
    "    \"\"\"\n",
    "    scores, labels = train_and_evaluate(DMAtrain=DMAtrain, DMAtest=DMAtest,\n",
    "                                        graph=graph, num_steps=epochs)\n",
    "    y_test_prob = scores\n",
    "    y_test_pred = transfer(y_test_prob)\n",
    "    performances_test = performances(labels, y_test_pred, y_test_prob)"
   ]
  },
  {
   "cell_type": "markdown",
   "metadata": {},
   "source": [
    "# Td, unbalanced"
   ]
  },
  {
   "cell_type": "code",
   "execution_count": 15,
   "metadata": {
    "scrolled": true
   },
   "outputs": [
    {
     "name": "stdout",
     "output_type": "stream",
     "text": [
      "# miRNA = 577 | Disease = 336\n",
      "# Test: miRNA = 115 | Disease = 67\n",
      "-------Fold  0\n",
      "# disease: Train = 269 | Test = 67\n",
      "# Pairs: Train = 155213 | Test = 38659\n",
      "-------Fold  1\n",
      "# disease: Train = 269 | Test = 67\n",
      "# Pairs: Train = 155213 | Test = 38659\n",
      "-------Fold  2\n",
      "# disease: Train = 269 | Test = 67\n",
      "# Pairs: Train = 155213 | Test = 38659\n",
      "-------Fold  3\n",
      "# disease: Train = 269 | Test = 67\n",
      "# Pairs: Train = 155213 | Test = 38659\n",
      "-------Fold  4\n",
      "# disease: Train = 268 | Test = 68\n",
      "# Pairs: Train = 154636 | Test = 39236\n"
     ]
    },
    {
     "name": "stderr",
     "output_type": "stream",
     "text": [
      "100%|██████████| 2000/2000 [03:35<00:00,  9.30it/s]\n",
      "/home/chujunyi/anaconda3/envs/tensorflow_1.8/lib/python3.6/site-packages/ipykernel_launcher.py:44: DeprecationWarning: In future, it will be an error for 'np.bool_' scalars to be interpreted as an index\n"
     ]
    },
    {
     "name": "stdout",
     "output_type": "stream",
     "text": [
      "tn = 37292, fp = 0, fn = 1366, tp = 1\n",
      "y_pred: 0 = 38658 | 1 = 1\n",
      "y_true: 0 = 37292 | 1 = 1367\n",
      "acc=0.9647|precision=1.0000|recall=0.0007|f1=0.0015|auc=0.8214|aupr=0.2714\n"
     ]
    },
    {
     "name": "stderr",
     "output_type": "stream",
     "text": [
      "100%|██████████| 2000/2000 [03:24<00:00,  9.76it/s]\n",
      "/home/chujunyi/anaconda3/envs/tensorflow_1.8/lib/python3.6/site-packages/ipykernel_launcher.py:44: DeprecationWarning: In future, it will be an error for 'np.bool_' scalars to be interpreted as an index\n"
     ]
    },
    {
     "name": "stdout",
     "output_type": "stream",
     "text": [
      "tn = 37183, fp = 0, fn = 1472, tp = 4\n",
      "y_pred: 0 = 38655 | 1 = 4\n",
      "y_true: 0 = 37183 | 1 = 1476\n",
      "acc=0.9619|precision=1.0000|recall=0.0027|f1=0.0054|auc=0.8503|aupr=0.2518\n"
     ]
    },
    {
     "name": "stderr",
     "output_type": "stream",
     "text": [
      "100%|██████████| 2000/2000 [03:30<00:00,  9.50it/s]\n",
      "/home/chujunyi/anaconda3/envs/tensorflow_1.8/lib/python3.6/site-packages/ipykernel_launcher.py:44: DeprecationWarning: In future, it will be an error for 'np.bool_' scalars to be interpreted as an index\n"
     ]
    },
    {
     "name": "stdout",
     "output_type": "stream",
     "text": [
      "tn = 37662, fp = 0, fn = 997, tp = 0\n",
      "y_pred: 0 = 38659 | 1 = 0\n",
      "y_true: 0 = 37662 | 1 = 997\n",
      "acc=0.9742|precision=0.0000|recall=0.0000|f1=0.0000|auc=0.8674|aupr=0.3103\n"
     ]
    },
    {
     "name": "stderr",
     "output_type": "stream",
     "text": [
      "100%|██████████| 2000/2000 [03:58<00:00,  8.40it/s]\n",
      "/home/chujunyi/anaconda3/envs/tensorflow_1.8/lib/python3.6/site-packages/ipykernel_launcher.py:44: DeprecationWarning: In future, it will be an error for 'np.bool_' scalars to be interpreted as an index\n"
     ]
    },
    {
     "name": "stdout",
     "output_type": "stream",
     "text": [
      "tn = 37384, fp = 0, fn = 1271, tp = 4\n",
      "y_pred: 0 = 38655 | 1 = 4\n",
      "y_true: 0 = 37384 | 1 = 1275\n",
      "acc=0.9671|precision=1.0000|recall=0.0031|f1=0.0063|auc=0.8253|aupr=0.2759\n"
     ]
    },
    {
     "name": "stderr",
     "output_type": "stream",
     "text": [
      "100%|██████████| 2000/2000 [03:45<00:00,  8.87it/s]\n",
      "/home/chujunyi/anaconda3/envs/tensorflow_1.8/lib/python3.6/site-packages/ipykernel_launcher.py:44: DeprecationWarning: In future, it will be an error for 'np.bool_' scalars to be interpreted as an index\n"
     ]
    },
    {
     "name": "stdout",
     "output_type": "stream",
     "text": [
      "tn = 38038, fp = 0, fn = 1197, tp = 1\n",
      "y_pred: 0 = 39235 | 1 = 1\n",
      "y_true: 0 = 38038 | 1 = 1198\n",
      "acc=0.9695|precision=1.0000|recall=0.0008|f1=0.0017|auc=0.8093|aupr=0.2268\n"
     ]
    }
   ],
   "source": [
    "known_associations, unknown_associations = divide_known_unknown_associations(DMA)\n",
    "dtp = pd.DataFrame(np.vstack([known_associations, unknown_associations]), columns = ['disease', 'miRNA', 'label'])\n",
    "dtp, mirna_ids, disease_ids, mirna_test_num, disease_test_num = obtain_data(dtp, isbalance = False)\n",
    "item = 'disease'\n",
    "ids = disease_ids\n",
    "train_index_all, test_index_all, train_id_all, test_id_all = generate_task_Tm_Td_train_test_idx(item, ids, dtp)\n",
    "\n",
    "\n",
    "epochs = 2000\n",
    "\n",
    "tpr_fold = []\n",
    "precision_fold = []\n",
    "mean_fpr = np.linspace(0, 1, 100)\n",
    "mean_recall = np.linspace(0, 1, 100)\n",
    "# DMAcandidate = unknown_associations\n",
    "for train_idx, test_idx in zip(train_index_all, test_index_all):\n",
    "    DMAtrain = np.array(dtp.iloc[train_idx])\n",
    "    DMAtest = np.array(dtp.iloc[test_idx])\n",
    "\n",
    "    \"\"\"\n",
    "    # used to adjust the superparameter\n",
    "    DMAtrain, DMAvalid = train_test_split(DMAtrain, test_size=0.05, random_state=rs)\n",
    "    scores, labels = train_and_evaluate(DMAtrain=DMAtrain, DMAtest=DMAvalid, DMAcandidate=DMAcandidate, \n",
    "                                        graph=graph, num_steps=epochs)\n",
    "    \"\"\"\n",
    "    scores, labels = train_and_evaluate(DMAtrain=DMAtrain, DMAtest=DMAtest,\n",
    "                                        graph=graph, num_steps=epochs)\n",
    "    y_test_prob = scores\n",
    "    y_test_pred = transfer(y_test_prob)\n",
    "    performances_test = performances(labels, y_test_pred, y_test_prob)"
   ]
  },
  {
   "cell_type": "code",
   "execution_count": null,
   "metadata": {
    "collapsed": true
   },
   "outputs": [],
   "source": []
  }
 ],
 "metadata": {
  "kernelspec": {
   "display_name": "tensorflow_1.8",
   "language": "python",
   "name": "tensorflow_1.8"
  },
  "language_info": {
   "codemirror_mode": {
    "name": "ipython",
    "version": 3
   },
   "file_extension": ".py",
   "mimetype": "text/x-python",
   "name": "python",
   "nbconvert_exporter": "python",
   "pygments_lexer": "ipython3",
   "version": "3.6.13"
  }
 },
 "nbformat": 4,
 "nbformat_minor": 2
}
